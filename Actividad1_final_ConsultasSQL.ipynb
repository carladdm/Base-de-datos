{
  "cells": [
    {
      "cell_type": "markdown",
      "source": [
        "# **Portafolio Actividad 1**\n",
        "## **Consultas SQL**\n",
        "---\n",
        "\n",
        "\n",
        "> Nombres y Apellido autor: Carla Daniela Di Monno\n",
        "\n",
        "> Asignatura: Herramientas de Base de Datos"
      ],
      "metadata": {
        "id": "8ncWYF9ZJlr0"
      }
    },
    {
      "cell_type": "markdown",
      "metadata": {
        "id": "-JCY6rkOeqRZ"
      },
      "source": [
        "## Instalación de dependencias necesarias\n",
        "---------------------"
      ]
    },
    {
      "cell_type": "code",
      "execution_count": null,
      "metadata": {
        "colab": {
          "base_uri": "https://localhost:8080/"
        },
        "id": "BNBBe2_WEh5i",
        "outputId": "4c640994-6406-48f6-d31c-9c7281a98974"
      },
      "outputs": [
        {
          "output_type": "stream",
          "name": "stdout",
          "text": [
            "Collecting sqlalchemy==2.0.2\n",
            "  Downloading SQLAlchemy-2.0.2-cp310-cp310-manylinux_2_17_x86_64.manylinux2014_x86_64.whl (2.7 MB)\n",
            "\u001b[2K     \u001b[90m━━━━━━━━━━━━━━━━━━━━━━━━━━━━━━━━━━━━━━━━\u001b[0m \u001b[32m2.7/2.7 MB\u001b[0m \u001b[31m10.5 MB/s\u001b[0m eta \u001b[36m0:00:00\u001b[0m\n",
            "\u001b[?25hRequirement already satisfied: typing-extensions>=4.2.0 in /usr/local/lib/python3.10/dist-packages (from sqlalchemy==2.0.2) (4.9.0)\n",
            "Requirement already satisfied: greenlet!=0.4.17 in /usr/local/lib/python3.10/dist-packages (from sqlalchemy==2.0.2) (3.0.3)\n",
            "Installing collected packages: sqlalchemy\n",
            "  Attempting uninstall: sqlalchemy\n",
            "    Found existing installation: SQLAlchemy 2.0.27\n",
            "    Uninstalling SQLAlchemy-2.0.27:\n",
            "      Successfully uninstalled SQLAlchemy-2.0.27\n",
            "Successfully installed sqlalchemy-2.0.2\n",
            "Requirement already satisfied: ipython-sql in /usr/local/lib/python3.10/dist-packages (0.5.0)\n",
            "Requirement already satisfied: prettytable in /usr/local/lib/python3.10/dist-packages (from ipython-sql) (3.9.0)\n",
            "Requirement already satisfied: ipython in /usr/local/lib/python3.10/dist-packages (from ipython-sql) (7.34.0)\n",
            "Requirement already satisfied: sqlalchemy>=2.0 in /usr/local/lib/python3.10/dist-packages (from ipython-sql) (2.0.2)\n",
            "Requirement already satisfied: sqlparse in /usr/local/lib/python3.10/dist-packages (from ipython-sql) (0.4.4)\n",
            "Requirement already satisfied: six in /usr/local/lib/python3.10/dist-packages (from ipython-sql) (1.16.0)\n",
            "Requirement already satisfied: ipython-genutils in /usr/local/lib/python3.10/dist-packages (from ipython-sql) (0.2.0)\n",
            "Requirement already satisfied: typing-extensions>=4.2.0 in /usr/local/lib/python3.10/dist-packages (from sqlalchemy>=2.0->ipython-sql) (4.9.0)\n",
            "Requirement already satisfied: greenlet!=0.4.17 in /usr/local/lib/python3.10/dist-packages (from sqlalchemy>=2.0->ipython-sql) (3.0.3)\n",
            "Requirement already satisfied: setuptools>=18.5 in /usr/local/lib/python3.10/dist-packages (from ipython->ipython-sql) (67.7.2)\n",
            "Collecting jedi>=0.16 (from ipython->ipython-sql)\n",
            "  Downloading jedi-0.19.1-py2.py3-none-any.whl (1.6 MB)\n",
            "\u001b[2K     \u001b[90m━━━━━━━━━━━━━━━━━━━━━━━━━━━━━━━━━━━━━━━━\u001b[0m \u001b[32m1.6/1.6 MB\u001b[0m \u001b[31m9.4 MB/s\u001b[0m eta \u001b[36m0:00:00\u001b[0m\n",
            "\u001b[?25hRequirement already satisfied: decorator in /usr/local/lib/python3.10/dist-packages (from ipython->ipython-sql) (4.4.2)\n",
            "Requirement already satisfied: pickleshare in /usr/local/lib/python3.10/dist-packages (from ipython->ipython-sql) (0.7.5)\n",
            "Requirement already satisfied: traitlets>=4.2 in /usr/local/lib/python3.10/dist-packages (from ipython->ipython-sql) (5.7.1)\n",
            "Requirement already satisfied: prompt-toolkit!=3.0.0,!=3.0.1,<3.1.0,>=2.0.0 in /usr/local/lib/python3.10/dist-packages (from ipython->ipython-sql) (3.0.43)\n",
            "Requirement already satisfied: pygments in /usr/local/lib/python3.10/dist-packages (from ipython->ipython-sql) (2.16.1)\n",
            "Requirement already satisfied: backcall in /usr/local/lib/python3.10/dist-packages (from ipython->ipython-sql) (0.2.0)\n",
            "Requirement already satisfied: matplotlib-inline in /usr/local/lib/python3.10/dist-packages (from ipython->ipython-sql) (0.1.6)\n",
            "Requirement already satisfied: pexpect>4.3 in /usr/local/lib/python3.10/dist-packages (from ipython->ipython-sql) (4.9.0)\n",
            "Requirement already satisfied: wcwidth in /usr/local/lib/python3.10/dist-packages (from prettytable->ipython-sql) (0.2.13)\n",
            "Requirement already satisfied: parso<0.9.0,>=0.8.3 in /usr/local/lib/python3.10/dist-packages (from jedi>=0.16->ipython->ipython-sql) (0.8.3)\n",
            "Requirement already satisfied: ptyprocess>=0.5 in /usr/local/lib/python3.10/dist-packages (from pexpect>4.3->ipython->ipython-sql) (0.7.0)\n",
            "Installing collected packages: jedi\n",
            "Successfully installed jedi-0.19.1\n"
          ]
        }
      ],
      "source": [
        "#!pip install sqlalchemy==1.4.4\n",
        "!pip install sqlalchemy==2.0.2\n",
        "!pip install ipython-sql"
      ]
    },
    {
      "cell_type": "markdown",
      "metadata": {
        "id": "hsBnYa-ieqRg"
      },
      "source": [
        "## Alcances de la Actividad\n",
        "---\n",
        "\n",
        "En esta actividad del portafolio de Herramientas de Base de Datos se responderán diversas preguntas sobre la actividad de una tienda de productos para mascotas **Love4Pets**, que ha creado una base de datos SQL con el fin de llevar un control de sus empleados, ventas y suministro de productos. Las consultas SQL nos permitirán abordar las cuestiones planteadas en cada uno de estos aspectos.\n",
        "\n",
        "### Fuente de datos\n",
        "La base de datos **love4pets.db** integra diferentes tablas, cada una almacena información relativa a un aspecto de la empresa, agrupando esta información en forma de campos.\n",
        "\n",
        "Las tablas existentes en **love4pets.db** son:\n",
        "*   Departamento\n",
        "*   Empleado\n",
        "*   Cliente\n",
        "*   Mascota\n",
        "*   Producto\n",
        "*   Orden o Factura\n",
        "*   Detalle_orden\n",
        "*   Proveedor\n",
        "*   Suministro\n",
        "\n",
        "\n",
        "### Importación y carga de love4pets.db (SQL)"
      ]
    },
    {
      "cell_type": "code",
      "execution_count": null,
      "metadata": {
        "id": "j7LmN5oLeqRd",
        "scrolled": true
      },
      "outputs": [],
      "source": [
        "# %reload_ext sql\n",
        "%load_ext sql\n",
        "%sql sqlite:///love4pets.db"
      ]
    },
    {
      "cell_type": "markdown",
      "source": [
        "## Exploración de datos\n",
        "\n",
        "---\n",
        "\n"
      ],
      "metadata": {
        "id": "lYdz2l6cn9h-"
      }
    },
    {
      "cell_type": "markdown",
      "metadata": {
        "id": "EoKTspwI9P8q"
      },
      "source": [
        "### **Ejercicio 1**\n",
        "--------\n",
        "*Complete el siguiente código para obtener un listado de los nombres, telefonos, y el correo electrónico de todos los clientes y asi contactarlos para notificarles de una promoción.*"
      ]
    },
    {
      "cell_type": "markdown",
      "source": [
        "Para obtener un listado de los *nombres, teléfonos y correos electrónicos* de todos los clientes de la tienda de mascotas **love4pets** debemos recurrir a la tabla de **cliente** de la base de datos. Para ello, en primer lugar, necesitamos conocer cuáles son los campos que posee dicha tabla para consultar sólo los que contienen la información que deseamos y no toda la tabla.\n",
        "Entonces, observamos el diseño de la tabla mediante la siguiente instrucción:\n",
        "\n"
      ],
      "metadata": {
        "id": "YYnxYjtuo9gc"
      }
    },
    {
      "cell_type": "code",
      "execution_count": null,
      "metadata": {
        "colab": {
          "base_uri": "https://localhost:8080/",
          "height": 225
        },
        "id": "Fwuv_K2keqRu",
        "outputId": "ca47a81f-72ee-42e6-b8b3-79a34f81b04f"
      },
      "outputs": [
        {
          "output_type": "stream",
          "name": "stdout",
          "text": [
            " * sqlite:///love4pets.db\n",
            "Done.\n"
          ]
        },
        {
          "output_type": "execute_result",
          "data": {
            "text/plain": [
              "[(0, 'cliente_id', 'INTEGER', 1, None, 1),\n",
              " (1, 'nombre', 'TEXT', 1, None, 0),\n",
              " (2, 'email', 'TEXT', 0, None, 0),\n",
              " (3, 'telefono', 'TEXT', 1, None, 0),\n",
              " (4, 'contacto', 'TEXT', 0, None, 0),\n",
              " (5, 'telefono_contacto', 'TEXT', 0, None, 0),\n",
              " (6, 'ciudad', 'TEXT', 1, None, 0)]"
            ],
            "text/html": [
              "<table>\n",
              "    <thead>\n",
              "        <tr>\n",
              "            <th>cid</th>\n",
              "            <th>name</th>\n",
              "            <th>type</th>\n",
              "            <th>notnull</th>\n",
              "            <th>dflt_value</th>\n",
              "            <th>pk</th>\n",
              "        </tr>\n",
              "    </thead>\n",
              "    <tbody>\n",
              "        <tr>\n",
              "            <td>0</td>\n",
              "            <td>cliente_id</td>\n",
              "            <td>INTEGER</td>\n",
              "            <td>1</td>\n",
              "            <td>None</td>\n",
              "            <td>1</td>\n",
              "        </tr>\n",
              "        <tr>\n",
              "            <td>1</td>\n",
              "            <td>nombre</td>\n",
              "            <td>TEXT</td>\n",
              "            <td>1</td>\n",
              "            <td>None</td>\n",
              "            <td>0</td>\n",
              "        </tr>\n",
              "        <tr>\n",
              "            <td>2</td>\n",
              "            <td>email</td>\n",
              "            <td>TEXT</td>\n",
              "            <td>0</td>\n",
              "            <td>None</td>\n",
              "            <td>0</td>\n",
              "        </tr>\n",
              "        <tr>\n",
              "            <td>3</td>\n",
              "            <td>telefono</td>\n",
              "            <td>TEXT</td>\n",
              "            <td>1</td>\n",
              "            <td>None</td>\n",
              "            <td>0</td>\n",
              "        </tr>\n",
              "        <tr>\n",
              "            <td>4</td>\n",
              "            <td>contacto</td>\n",
              "            <td>TEXT</td>\n",
              "            <td>0</td>\n",
              "            <td>None</td>\n",
              "            <td>0</td>\n",
              "        </tr>\n",
              "        <tr>\n",
              "            <td>5</td>\n",
              "            <td>telefono_contacto</td>\n",
              "            <td>TEXT</td>\n",
              "            <td>0</td>\n",
              "            <td>None</td>\n",
              "            <td>0</td>\n",
              "        </tr>\n",
              "        <tr>\n",
              "            <td>6</td>\n",
              "            <td>ciudad</td>\n",
              "            <td>TEXT</td>\n",
              "            <td>1</td>\n",
              "            <td>None</td>\n",
              "            <td>0</td>\n",
              "        </tr>\n",
              "    </tbody>\n",
              "</table>"
            ]
          },
          "metadata": {},
          "execution_count": 3
        }
      ],
      "source": [
        "%sql PRAGMA table_info(cliente);"
      ]
    },
    {
      "cell_type": "markdown",
      "source": [
        "Podemos observar que la tabla ***cliente*** contiene los siguientes 7 campos:\n",
        "\n",
        "*   cliente_id\n",
        "*   nombre\n",
        "*   email\n",
        "*   telefono\n",
        "*   contacto\n",
        "*   telefono_contacto\n",
        "*   ciudad\n",
        "\n",
        "Donde *cliente_id* es el único campo con registros de tipo entero, ya que el resto de los campos son de tipo texto.\n",
        "Ahora que ya conocemos los campos, podemos realizar la siguiente consulta de selección SQL, mostrando solo los campos **nombre, telefono e email** para obtener el listado solicitado y notificar a los clientes de la promoción:"
      ],
      "metadata": {
        "id": "oLHvf-DIrNs8"
      }
    },
    {
      "cell_type": "code",
      "source": [
        "%sql SELECT nombre AS \"nombre_cliente\", telefono AS \"teléfono\", email AS \"correo_electrónico\" FROM cliente;"
      ],
      "metadata": {
        "colab": {
          "base_uri": "https://localhost:8080/",
          "height": 389
        },
        "id": "exi2EbeXYsr0",
        "outputId": "7f70978a-891c-44d4-b4e7-8a19114fe76a"
      },
      "execution_count": null,
      "outputs": [
        {
          "output_type": "stream",
          "name": "stdout",
          "text": [
            " * sqlite:///love4pets.db\n",
            "Done.\n"
          ]
        },
        {
          "output_type": "execute_result",
          "data": {
            "text/plain": [
              "[('Mario Flores Gallardo', '036-15-36', 'marioflores@gmail.com'),\n",
              " ('Arnau Medina Garcia', '094-10-88', 'arnaumedina@gmail.com'),\n",
              " ('Ivan Medina Rubio', '083-08-72', 'ivanmedina@gmail.com'),\n",
              " ('Jan Vargas Santana', '780-65-24', 'vargasjan@gmail.com'),\n",
              " ('Carlos Costa Guerrero', '180-65-24', 'carloscostag@gmail.com'),\n",
              " ('Roberto Martin Ortega', '742-63-27', 'robertmartin@gmail.com'),\n",
              " ('Gabriel Gonzalez Ortega', '780-13-14', 'gabogonzo@gmail.com'),\n",
              " ('Rayan Leon Ferrer', '430-65-24', 'rayito@gmail.com'),\n",
              " ('Aitor Ruiz Sanchez', '780-77-24', 'aitorsanchez@gmail.com'),\n",
              " ('Eric Rubio Carrasco', '780-65-79', 'ericrubio@gmail.com'),\n",
              " ('Alberto Sanz Ruiz', '781-15-24', 'albert@gmail.com'),\n",
              " ('Jesus Medina Hernandez', '782-35-25', 'jmedinah@gmail.com'),\n",
              " ('Pol Moya Pena', '780-25-24', 'polmoya@gmail.com'),\n",
              " ('Jose Gallardo Rodriguez', '783-65-11', 'josegallardo@gmail.com'),\n",
              " ('Manuel Angel Gil', '733-65-16', 'manano@gmail.com')]"
            ],
            "text/html": [
              "<table>\n",
              "    <thead>\n",
              "        <tr>\n",
              "            <th>nombre cliente</th>\n",
              "            <th>teléfono</th>\n",
              "            <th>correo electrónico</th>\n",
              "        </tr>\n",
              "    </thead>\n",
              "    <tbody>\n",
              "        <tr>\n",
              "            <td>Mario Flores Gallardo</td>\n",
              "            <td>036-15-36</td>\n",
              "            <td>marioflores@gmail.com</td>\n",
              "        </tr>\n",
              "        <tr>\n",
              "            <td>Arnau Medina Garcia</td>\n",
              "            <td>094-10-88</td>\n",
              "            <td>arnaumedina@gmail.com</td>\n",
              "        </tr>\n",
              "        <tr>\n",
              "            <td>Ivan Medina Rubio</td>\n",
              "            <td>083-08-72</td>\n",
              "            <td>ivanmedina@gmail.com</td>\n",
              "        </tr>\n",
              "        <tr>\n",
              "            <td>Jan Vargas Santana</td>\n",
              "            <td>780-65-24</td>\n",
              "            <td>vargasjan@gmail.com</td>\n",
              "        </tr>\n",
              "        <tr>\n",
              "            <td>Carlos Costa Guerrero</td>\n",
              "            <td>180-65-24</td>\n",
              "            <td>carloscostag@gmail.com</td>\n",
              "        </tr>\n",
              "        <tr>\n",
              "            <td>Roberto Martin Ortega</td>\n",
              "            <td>742-63-27</td>\n",
              "            <td>robertmartin@gmail.com</td>\n",
              "        </tr>\n",
              "        <tr>\n",
              "            <td>Gabriel Gonzalez Ortega</td>\n",
              "            <td>780-13-14</td>\n",
              "            <td>gabogonzo@gmail.com</td>\n",
              "        </tr>\n",
              "        <tr>\n",
              "            <td>Rayan Leon Ferrer</td>\n",
              "            <td>430-65-24</td>\n",
              "            <td>rayito@gmail.com</td>\n",
              "        </tr>\n",
              "        <tr>\n",
              "            <td>Aitor Ruiz Sanchez</td>\n",
              "            <td>780-77-24</td>\n",
              "            <td>aitorsanchez@gmail.com</td>\n",
              "        </tr>\n",
              "        <tr>\n",
              "            <td>Eric Rubio Carrasco</td>\n",
              "            <td>780-65-79</td>\n",
              "            <td>ericrubio@gmail.com</td>\n",
              "        </tr>\n",
              "        <tr>\n",
              "            <td>Alberto Sanz Ruiz</td>\n",
              "            <td>781-15-24</td>\n",
              "            <td>albert@gmail.com</td>\n",
              "        </tr>\n",
              "        <tr>\n",
              "            <td>Jesus Medina Hernandez</td>\n",
              "            <td>782-35-25</td>\n",
              "            <td>jmedinah@gmail.com</td>\n",
              "        </tr>\n",
              "        <tr>\n",
              "            <td>Pol Moya Pena</td>\n",
              "            <td>780-25-24</td>\n",
              "            <td>polmoya@gmail.com</td>\n",
              "        </tr>\n",
              "        <tr>\n",
              "            <td>Jose Gallardo Rodriguez</td>\n",
              "            <td>783-65-11</td>\n",
              "            <td>josegallardo@gmail.com</td>\n",
              "        </tr>\n",
              "        <tr>\n",
              "            <td>Manuel Angel Gil</td>\n",
              "            <td>733-65-16</td>\n",
              "            <td>manano@gmail.com</td>\n",
              "        </tr>\n",
              "    </tbody>\n",
              "</table>"
            ]
          },
          "metadata": {},
          "execution_count": 4
        }
      ]
    },
    {
      "cell_type": "markdown",
      "source": [
        "NOTA: Por una cuestión de prolijidad y que el listado esté bien identificado se utilizaron etiquetas para renombrar los campos en la consulta con un alias mediante la utilización del **comando AS**. Se mantendrá este formato a lo largo de toda la actividad."
      ],
      "metadata": {
        "id": "GtInmN4dt7L5"
      }
    },
    {
      "cell_type": "markdown",
      "metadata": {
        "id": "ex0n3BBEeqRx"
      },
      "source": [
        "Además, para facilitar la tarea de quién tenga que comunicarse con dichos clientes para ofrecer la promoción se ordenó el listado obtenido alfabéticamente por el campo \"*nombre_cliente*\" utilizando la cláusula ORDER BY (por default toma orden ascendente, A > Z)."
      ]
    },
    {
      "cell_type": "code",
      "execution_count": null,
      "metadata": {
        "colab": {
          "base_uri": "https://localhost:8080/",
          "height": 389
        },
        "id": "MMu_9Uh6eqRx",
        "outputId": "80f36ad7-96b9-48da-bcc7-01c73260c031"
      },
      "outputs": [
        {
          "output_type": "stream",
          "name": "stdout",
          "text": [
            " * sqlite:///love4pets.db\n",
            "Done.\n"
          ]
        },
        {
          "output_type": "execute_result",
          "data": {
            "text/plain": [
              "[('Aitor Ruiz Sanchez', '780-77-24', 'aitorsanchez@gmail.com'),\n",
              " ('Alberto Sanz Ruiz', '781-15-24', 'albert@gmail.com'),\n",
              " ('Arnau Medina Garcia', '094-10-88', 'arnaumedina@gmail.com'),\n",
              " ('Carlos Costa Guerrero', '180-65-24', 'carloscostag@gmail.com'),\n",
              " ('Eric Rubio Carrasco', '780-65-79', 'ericrubio@gmail.com'),\n",
              " ('Gabriel Gonzalez Ortega', '780-13-14', 'gabogonzo@gmail.com'),\n",
              " ('Ivan Medina Rubio', '083-08-72', 'ivanmedina@gmail.com'),\n",
              " ('Jan Vargas Santana', '780-65-24', 'vargasjan@gmail.com'),\n",
              " ('Jesus Medina Hernandez', '782-35-25', 'jmedinah@gmail.com'),\n",
              " ('Jose Gallardo Rodriguez', '783-65-11', 'josegallardo@gmail.com'),\n",
              " ('Manuel Angel Gil', '733-65-16', 'manano@gmail.com'),\n",
              " ('Mario Flores Gallardo', '036-15-36', 'marioflores@gmail.com'),\n",
              " ('Pol Moya Pena', '780-25-24', 'polmoya@gmail.com'),\n",
              " ('Rayan Leon Ferrer', '430-65-24', 'rayito@gmail.com'),\n",
              " ('Roberto Martin Ortega', '742-63-27', 'robertmartin@gmail.com')]"
            ],
            "text/html": [
              "<table>\n",
              "    <thead>\n",
              "        <tr>\n",
              "            <th>nombre_cliente</th>\n",
              "            <th>teléfono</th>\n",
              "            <th>correo_electrónico</th>\n",
              "        </tr>\n",
              "    </thead>\n",
              "    <tbody>\n",
              "        <tr>\n",
              "            <td>Aitor Ruiz Sanchez</td>\n",
              "            <td>780-77-24</td>\n",
              "            <td>aitorsanchez@gmail.com</td>\n",
              "        </tr>\n",
              "        <tr>\n",
              "            <td>Alberto Sanz Ruiz</td>\n",
              "            <td>781-15-24</td>\n",
              "            <td>albert@gmail.com</td>\n",
              "        </tr>\n",
              "        <tr>\n",
              "            <td>Arnau Medina Garcia</td>\n",
              "            <td>094-10-88</td>\n",
              "            <td>arnaumedina@gmail.com</td>\n",
              "        </tr>\n",
              "        <tr>\n",
              "            <td>Carlos Costa Guerrero</td>\n",
              "            <td>180-65-24</td>\n",
              "            <td>carloscostag@gmail.com</td>\n",
              "        </tr>\n",
              "        <tr>\n",
              "            <td>Eric Rubio Carrasco</td>\n",
              "            <td>780-65-79</td>\n",
              "            <td>ericrubio@gmail.com</td>\n",
              "        </tr>\n",
              "        <tr>\n",
              "            <td>Gabriel Gonzalez Ortega</td>\n",
              "            <td>780-13-14</td>\n",
              "            <td>gabogonzo@gmail.com</td>\n",
              "        </tr>\n",
              "        <tr>\n",
              "            <td>Ivan Medina Rubio</td>\n",
              "            <td>083-08-72</td>\n",
              "            <td>ivanmedina@gmail.com</td>\n",
              "        </tr>\n",
              "        <tr>\n",
              "            <td>Jan Vargas Santana</td>\n",
              "            <td>780-65-24</td>\n",
              "            <td>vargasjan@gmail.com</td>\n",
              "        </tr>\n",
              "        <tr>\n",
              "            <td>Jesus Medina Hernandez</td>\n",
              "            <td>782-35-25</td>\n",
              "            <td>jmedinah@gmail.com</td>\n",
              "        </tr>\n",
              "        <tr>\n",
              "            <td>Jose Gallardo Rodriguez</td>\n",
              "            <td>783-65-11</td>\n",
              "            <td>josegallardo@gmail.com</td>\n",
              "        </tr>\n",
              "        <tr>\n",
              "            <td>Manuel Angel Gil</td>\n",
              "            <td>733-65-16</td>\n",
              "            <td>manano@gmail.com</td>\n",
              "        </tr>\n",
              "        <tr>\n",
              "            <td>Mario Flores Gallardo</td>\n",
              "            <td>036-15-36</td>\n",
              "            <td>marioflores@gmail.com</td>\n",
              "        </tr>\n",
              "        <tr>\n",
              "            <td>Pol Moya Pena</td>\n",
              "            <td>780-25-24</td>\n",
              "            <td>polmoya@gmail.com</td>\n",
              "        </tr>\n",
              "        <tr>\n",
              "            <td>Rayan Leon Ferrer</td>\n",
              "            <td>430-65-24</td>\n",
              "            <td>rayito@gmail.com</td>\n",
              "        </tr>\n",
              "        <tr>\n",
              "            <td>Roberto Martin Ortega</td>\n",
              "            <td>742-63-27</td>\n",
              "            <td>robertmartin@gmail.com</td>\n",
              "        </tr>\n",
              "    </tbody>\n",
              "</table>"
            ]
          },
          "metadata": {},
          "execution_count": 6
        }
      ],
      "source": [
        "%sql SELECT nombre AS \"nombre_cliente\", telefono AS \"teléfono\", email AS \"correo_electrónico\" FROM cliente ORDER BY nombre;"
      ]
    },
    {
      "cell_type": "markdown",
      "metadata": {
        "id": "LDmz-VhHeqR2"
      },
      "source": [
        "### **Ejercicio 2**\n",
        "----\n",
        "*Con el propósito actualizar la información de los clientes se quiere contactar a aquellos clientes que no tienen asociada una persona de contacto, para esto se pide que muestre de la tabla \"cliente\" los campos \"nombre\" y \"telefono\" de los clientes que no tienen un contacto registrado.*"
      ]
    },
    {
      "cell_type": "markdown",
      "source": [
        "Para consultar los datos de los clientes que no tienen asociada una persona de contacto, es decir que en principio no habrían completado ese campo y por lo cual el valor por defecto sería NULL (porque según vemos en la información de la tabla en el ejercicio 1 los nulos en este campo están permitidos), tendríamos que utilizar la **cláusula WHERE** para filtrar el caso donde el campo **contacto** tomará registros con *valores nulos (NULL)*."
      ],
      "metadata": {
        "id": "qrQKFabWvuA6"
      }
    },
    {
      "cell_type": "code",
      "source": [
        "%sql SELECT nombre AS \"nombre_cliente\", telefono AS \"teléfono\" FROM cliente WHERE contacto IS NULL;"
      ],
      "metadata": {
        "colab": {
          "base_uri": "https://localhost:8080/",
          "height": 76
        },
        "id": "3BaiFqZKOU6A",
        "outputId": "86208cd5-b295-482c-e722-7b1374c733c3"
      },
      "execution_count": null,
      "outputs": [
        {
          "output_type": "stream",
          "name": "stdout",
          "text": [
            " * sqlite:///love4pets.db\n",
            "Done.\n"
          ]
        },
        {
          "output_type": "execute_result",
          "data": {
            "text/plain": [
              "[]"
            ],
            "text/html": [
              "<table>\n",
              "    <thead>\n",
              "        <tr>\n",
              "            <th>nombre_cliente</th>\n",
              "            <th>teléfono</th>\n",
              "        </tr>\n",
              "    </thead>\n",
              "    <tbody>\n",
              "    </tbody>\n",
              "</table>"
            ]
          },
          "metadata": {},
          "execution_count": 5
        }
      ]
    },
    {
      "cell_type": "markdown",
      "source": [
        "Se puede observar de la consulta realizada que **no se obtienen** registros cuyo contacto sea nulo (**NULL**). Sin embargo, si realizamos una consulta de toda la tabla, corroboramos que existen tres clientes que no tienen asociada una persona de contacto, por lo que evidentemente los datos en esta tabla se han insertado de otra manera."
      ],
      "metadata": {
        "id": "SFgtCfNfPiDB"
      }
    },
    {
      "cell_type": "code",
      "source": [
        "%sql SELECT * FROM cliente;"
      ],
      "metadata": {
        "colab": {
          "base_uri": "https://localhost:8080/",
          "height": 390
        },
        "id": "NCg39oNrP8Ra",
        "outputId": "7e60a098-7e0c-4a64-f5fd-be75f6225f38"
      },
      "execution_count": null,
      "outputs": [
        {
          "output_type": "stream",
          "name": "stdout",
          "text": [
            " * sqlite:///love4pets.db\n",
            "Done.\n"
          ]
        },
        {
          "output_type": "execute_result",
          "data": {
            "text/plain": [
              "[(1, 'Mario Flores Gallardo', 'marioflores@gmail.com', '036-15-36', 'Aintzane Alvarez Iglesias', '210-35-57', 'Madrid'),\n",
              " (2, 'Arnau Medina Garcia', 'arnaumedina@gmail.com', '094-10-88', '', '', 'Madrid'),\n",
              " (3, 'Ivan Medina Rubio', 'ivanmedina@gmail.com', '083-08-72', 'Javier Domenech', '488-48-46', 'Toledo'),\n",
              " (4, 'Jan Vargas Santana', 'vargasjan@gmail.com', '780-65-24', '', '', 'Madrid'),\n",
              " (5, 'Carlos Costa Guerrero', 'carloscostag@gmail.com', '180-65-24', 'Cristian Jimenez', '801-28-09', 'Madrid'),\n",
              " (6, 'Roberto Martin Ortega', 'robertmartin@gmail.com', '742-63-27', 'Jorge Vila Gallardo', '564-52-13', 'Madrid'),\n",
              " (7, 'Gabriel Gonzalez Ortega', 'gabogonzo@gmail.com', '780-13-14', 'Miguel Bosch Parra', '882-17-20', 'Madrid'),\n",
              " (8, 'Rayan Leon Ferrer', 'rayito@gmail.com', '430-65-24', 'Santiago Perez Ramos', '577-21-24', 'Madrid'),\n",
              " (9, 'Aitor Ruiz Sanchez', 'aitorsanchez@gmail.com', '780-77-24', 'Gabriel Gonzalez Ortega', '784-96-31', 'Madrid'),\n",
              " (10, 'Eric Rubio Carrasco', 'ericrubio@gmail.com', '780-65-79', 'Cristian Jimenez Martinez', '147-01-12', 'Madrid'),\n",
              " (11, 'Alberto Sanz Ruiz', 'albert@gmail.com', '781-15-24', 'Gabriel Gonzalez Ortega', '028-51-21', 'Madrid'),\n",
              " (12, 'Jesus Medina Hernandez', 'jmedinah@gmail.com', '782-35-25', 'Vctor Gonzalez Castillo', '661-85-12', 'Madrid'),\n",
              " (13, 'Pol Moya Pena', 'polmoya@gmail.com', '780-25-24', '', '', 'Toledo'),\n",
              " (14, 'Jose Gallardo Rodriguez', 'josegallardo@gmail.com', '783-65-11', 'Hector Martin Morales', '867-97-99', 'Madrid'),\n",
              " (15, 'Manuel Angel Gil', 'manano@gmail.com', '733-65-16', 'Hector Navarro', '067-97-91', 'Madrid')]"
            ],
            "text/html": [
              "<table>\n",
              "    <thead>\n",
              "        <tr>\n",
              "            <th>cliente_id</th>\n",
              "            <th>nombre</th>\n",
              "            <th>email</th>\n",
              "            <th>telefono</th>\n",
              "            <th>contacto</th>\n",
              "            <th>telefono_contacto</th>\n",
              "            <th>ciudad</th>\n",
              "        </tr>\n",
              "    </thead>\n",
              "    <tbody>\n",
              "        <tr>\n",
              "            <td>1</td>\n",
              "            <td>Mario Flores Gallardo</td>\n",
              "            <td>marioflores@gmail.com</td>\n",
              "            <td>036-15-36</td>\n",
              "            <td>Aintzane Alvarez Iglesias</td>\n",
              "            <td>210-35-57</td>\n",
              "            <td>Madrid</td>\n",
              "        </tr>\n",
              "        <tr>\n",
              "            <td>2</td>\n",
              "            <td>Arnau Medina Garcia</td>\n",
              "            <td>arnaumedina@gmail.com</td>\n",
              "            <td>094-10-88</td>\n",
              "            <td></td>\n",
              "            <td></td>\n",
              "            <td>Madrid</td>\n",
              "        </tr>\n",
              "        <tr>\n",
              "            <td>3</td>\n",
              "            <td>Ivan Medina Rubio</td>\n",
              "            <td>ivanmedina@gmail.com</td>\n",
              "            <td>083-08-72</td>\n",
              "            <td>Javier Domenech</td>\n",
              "            <td>488-48-46</td>\n",
              "            <td>Toledo</td>\n",
              "        </tr>\n",
              "        <tr>\n",
              "            <td>4</td>\n",
              "            <td>Jan Vargas Santana</td>\n",
              "            <td>vargasjan@gmail.com</td>\n",
              "            <td>780-65-24</td>\n",
              "            <td></td>\n",
              "            <td></td>\n",
              "            <td>Madrid</td>\n",
              "        </tr>\n",
              "        <tr>\n",
              "            <td>5</td>\n",
              "            <td>Carlos Costa Guerrero</td>\n",
              "            <td>carloscostag@gmail.com</td>\n",
              "            <td>180-65-24</td>\n",
              "            <td>Cristian Jimenez</td>\n",
              "            <td>801-28-09</td>\n",
              "            <td>Madrid</td>\n",
              "        </tr>\n",
              "        <tr>\n",
              "            <td>6</td>\n",
              "            <td>Roberto Martin Ortega</td>\n",
              "            <td>robertmartin@gmail.com</td>\n",
              "            <td>742-63-27</td>\n",
              "            <td>Jorge Vila Gallardo</td>\n",
              "            <td>564-52-13</td>\n",
              "            <td>Madrid</td>\n",
              "        </tr>\n",
              "        <tr>\n",
              "            <td>7</td>\n",
              "            <td>Gabriel Gonzalez Ortega</td>\n",
              "            <td>gabogonzo@gmail.com</td>\n",
              "            <td>780-13-14</td>\n",
              "            <td>Miguel Bosch Parra</td>\n",
              "            <td>882-17-20</td>\n",
              "            <td>Madrid</td>\n",
              "        </tr>\n",
              "        <tr>\n",
              "            <td>8</td>\n",
              "            <td>Rayan Leon Ferrer</td>\n",
              "            <td>rayito@gmail.com</td>\n",
              "            <td>430-65-24</td>\n",
              "            <td>Santiago Perez Ramos</td>\n",
              "            <td>577-21-24</td>\n",
              "            <td>Madrid</td>\n",
              "        </tr>\n",
              "        <tr>\n",
              "            <td>9</td>\n",
              "            <td>Aitor Ruiz Sanchez</td>\n",
              "            <td>aitorsanchez@gmail.com</td>\n",
              "            <td>780-77-24</td>\n",
              "            <td>Gabriel Gonzalez Ortega</td>\n",
              "            <td>784-96-31</td>\n",
              "            <td>Madrid</td>\n",
              "        </tr>\n",
              "        <tr>\n",
              "            <td>10</td>\n",
              "            <td>Eric Rubio Carrasco</td>\n",
              "            <td>ericrubio@gmail.com</td>\n",
              "            <td>780-65-79</td>\n",
              "            <td>Cristian Jimenez Martinez</td>\n",
              "            <td>147-01-12</td>\n",
              "            <td>Madrid</td>\n",
              "        </tr>\n",
              "        <tr>\n",
              "            <td>11</td>\n",
              "            <td>Alberto Sanz Ruiz</td>\n",
              "            <td>albert@gmail.com</td>\n",
              "            <td>781-15-24</td>\n",
              "            <td>Gabriel Gonzalez Ortega</td>\n",
              "            <td>028-51-21</td>\n",
              "            <td>Madrid</td>\n",
              "        </tr>\n",
              "        <tr>\n",
              "            <td>12</td>\n",
              "            <td>Jesus Medina Hernandez</td>\n",
              "            <td>jmedinah@gmail.com</td>\n",
              "            <td>782-35-25</td>\n",
              "            <td>Vctor Gonzalez Castillo</td>\n",
              "            <td>661-85-12</td>\n",
              "            <td>Madrid</td>\n",
              "        </tr>\n",
              "        <tr>\n",
              "            <td>13</td>\n",
              "            <td>Pol Moya Pena</td>\n",
              "            <td>polmoya@gmail.com</td>\n",
              "            <td>780-25-24</td>\n",
              "            <td></td>\n",
              "            <td></td>\n",
              "            <td>Toledo</td>\n",
              "        </tr>\n",
              "        <tr>\n",
              "            <td>14</td>\n",
              "            <td>Jose Gallardo Rodriguez</td>\n",
              "            <td>josegallardo@gmail.com</td>\n",
              "            <td>783-65-11</td>\n",
              "            <td>Hector Martin Morales</td>\n",
              "            <td>867-97-99</td>\n",
              "            <td>Madrid</td>\n",
              "        </tr>\n",
              "        <tr>\n",
              "            <td>15</td>\n",
              "            <td>Manuel Angel Gil</td>\n",
              "            <td>manano@gmail.com</td>\n",
              "            <td>733-65-16</td>\n",
              "            <td>Hector Navarro</td>\n",
              "            <td>067-97-91</td>\n",
              "            <td>Madrid</td>\n",
              "        </tr>\n",
              "    </tbody>\n",
              "</table>"
            ]
          },
          "metadata": {},
          "execution_count": 6
        }
      ]
    },
    {
      "cell_type": "markdown",
      "source": [
        "Lo que sucede aquí es que para esos clientes, sin un nombre en el campo **contacto**, evidentemente dicho campo está editado pero no se completó con valores, entonces está en blanco o vacío. Por lo que en realidad la *consulta SQL correcta para este ejercicio* que contemplaría dicho caso y nos devuelve el listado de los nombres y teléfonos de los clientes sin personas de contacto sería la siguiente:"
      ],
      "metadata": {
        "id": "4l4ZmNyAQ4nP"
      }
    },
    {
      "cell_type": "code",
      "execution_count": null,
      "metadata": {
        "colab": {
          "base_uri": "https://localhost:8080/",
          "height": 139
        },
        "id": "kxo6zMRkeqR3",
        "outputId": "078f4a7a-8738-4a35-cc6d-b3edf5f27a65"
      },
      "outputs": [
        {
          "output_type": "stream",
          "name": "stdout",
          "text": [
            " * sqlite:///love4pets.db\n",
            "Done.\n"
          ]
        },
        {
          "output_type": "execute_result",
          "data": {
            "text/plain": [
              "[('Arnau Medina Garcia', '094-10-88'),\n",
              " ('Jan Vargas Santana', '780-65-24'),\n",
              " ('Pol Moya Pena', '780-25-24')]"
            ],
            "text/html": [
              "<table>\n",
              "    <thead>\n",
              "        <tr>\n",
              "            <th>nombre_cliente</th>\n",
              "            <th>teléfono</th>\n",
              "        </tr>\n",
              "    </thead>\n",
              "    <tbody>\n",
              "        <tr>\n",
              "            <td>Arnau Medina Garcia</td>\n",
              "            <td>094-10-88</td>\n",
              "        </tr>\n",
              "        <tr>\n",
              "            <td>Jan Vargas Santana</td>\n",
              "            <td>780-65-24</td>\n",
              "        </tr>\n",
              "        <tr>\n",
              "            <td>Pol Moya Pena</td>\n",
              "            <td>780-25-24</td>\n",
              "        </tr>\n",
              "    </tbody>\n",
              "</table>"
            ]
          },
          "metadata": {},
          "execution_count": 8
        }
      ],
      "source": [
        "%sql SELECT nombre AS \"nombre_cliente\", telefono AS \"teléfono\" FROM cliente WHERE (contacto='');"
      ]
    },
    {
      "cell_type": "markdown",
      "source": [
        "Finalmente, si no pudieramos ver la tabla completa y no tuvieramos certezas o forma de verificar como fueron insertados los datos, lo ideal sería realizar una consulta SQL que contemple ambos casos. Es decir, que analice si el campo tiene registros vacíos o nulos. De esta forma no cometeríamos errores perdiendo algún registro de clientes sin contacto. La consulta SQL utilizaría la **cláusula WHERE** con el **operador OR** y sería:"
      ],
      "metadata": {
        "id": "sy1Az2IEZClS"
      }
    },
    {
      "cell_type": "code",
      "source": [
        "%sql SELECT nombre AS \"nombre_cliente\", telefono AS \"teléfono\" FROM cliente WHERE (contacto='') OR (contacto IS NULL);"
      ],
      "metadata": {
        "colab": {
          "base_uri": "https://localhost:8080/",
          "height": 139
        },
        "id": "QpAL3026bR6w",
        "outputId": "7a958b2a-bac4-4fa3-c804-78b237bbb985"
      },
      "execution_count": null,
      "outputs": [
        {
          "output_type": "stream",
          "name": "stdout",
          "text": [
            " * sqlite:///love4pets.db\n",
            "Done.\n"
          ]
        },
        {
          "output_type": "execute_result",
          "data": {
            "text/plain": [
              "[('Arnau Medina Garcia', '094-10-88'),\n",
              " ('Jan Vargas Santana', '780-65-24'),\n",
              " ('Pol Moya Pena', '780-25-24')]"
            ],
            "text/html": [
              "<table>\n",
              "    <thead>\n",
              "        <tr>\n",
              "            <th>nombre_cliente</th>\n",
              "            <th>teléfono</th>\n",
              "        </tr>\n",
              "    </thead>\n",
              "    <tbody>\n",
              "        <tr>\n",
              "            <td>Arnau Medina Garcia</td>\n",
              "            <td>094-10-88</td>\n",
              "        </tr>\n",
              "        <tr>\n",
              "            <td>Jan Vargas Santana</td>\n",
              "            <td>780-65-24</td>\n",
              "        </tr>\n",
              "        <tr>\n",
              "            <td>Pol Moya Pena</td>\n",
              "            <td>780-25-24</td>\n",
              "        </tr>\n",
              "    </tbody>\n",
              "</table>"
            ]
          },
          "metadata": {},
          "execution_count": 9
        }
      ]
    },
    {
      "cell_type": "markdown",
      "source": [
        "Observemos que para nuestro caso de análisis esta consulta da el mismo listado que la consulta anterior. Pero, si agregaramos algún registro con contacto nulo, nos devolvería los 3 anteriores más el nuevo registro tal como se muestra a continuación:"
      ],
      "metadata": {
        "id": "YFUwJkrvbZyC"
      }
    },
    {
      "cell_type": "code",
      "source": [
        "%sql INSERT INTO cliente(cliente_id, nombre, telefono, ciudad) VALUES (16,\"Carla Mana\", \"123456\", \"Segovia\");"
      ],
      "metadata": {
        "id": "Cdy8Qf8bb7gu",
        "colab": {
          "base_uri": "https://localhost:8080/"
        },
        "outputId": "cc7e6853-a858-4bac-b62a-ea623aa73c1c"
      },
      "execution_count": null,
      "outputs": [
        {
          "output_type": "stream",
          "name": "stdout",
          "text": [
            " * sqlite:///love4pets.db\n",
            "1 rows affected.\n"
          ]
        },
        {
          "output_type": "execute_result",
          "data": {
            "text/plain": [
              "[]"
            ]
          },
          "metadata": {},
          "execution_count": 10
        }
      ]
    },
    {
      "cell_type": "code",
      "source": [
        "%sql SELECT * FROM cliente WHERE (contacto='') OR (contacto IS NULL);"
      ],
      "metadata": {
        "colab": {
          "base_uri": "https://localhost:8080/",
          "height": 160
        },
        "id": "W1XGEvDldbXD",
        "outputId": "c4272419-cae3-4701-d1ac-18dbbf723951"
      },
      "execution_count": null,
      "outputs": [
        {
          "output_type": "stream",
          "name": "stdout",
          "text": [
            " * sqlite:///love4pets.db\n",
            "Done.\n"
          ]
        },
        {
          "output_type": "execute_result",
          "data": {
            "text/plain": [
              "[(2, 'Arnau Medina Garcia', 'arnaumedina@gmail.com', '094-10-88', '', '', 'Madrid'),\n",
              " (4, 'Jan Vargas Santana', 'vargasjan@gmail.com', '780-65-24', '', '', 'Madrid'),\n",
              " (13, 'Pol Moya Pena', 'polmoya@gmail.com', '780-25-24', '', '', 'Toledo'),\n",
              " (16, 'Carla Mana', None, '123456', None, None, 'Segovia')]"
            ],
            "text/html": [
              "<table>\n",
              "    <thead>\n",
              "        <tr>\n",
              "            <th>cliente_id</th>\n",
              "            <th>nombre</th>\n",
              "            <th>email</th>\n",
              "            <th>telefono</th>\n",
              "            <th>contacto</th>\n",
              "            <th>telefono_contacto</th>\n",
              "            <th>ciudad</th>\n",
              "        </tr>\n",
              "    </thead>\n",
              "    <tbody>\n",
              "        <tr>\n",
              "            <td>2</td>\n",
              "            <td>Arnau Medina Garcia</td>\n",
              "            <td>arnaumedina@gmail.com</td>\n",
              "            <td>094-10-88</td>\n",
              "            <td></td>\n",
              "            <td></td>\n",
              "            <td>Madrid</td>\n",
              "        </tr>\n",
              "        <tr>\n",
              "            <td>4</td>\n",
              "            <td>Jan Vargas Santana</td>\n",
              "            <td>vargasjan@gmail.com</td>\n",
              "            <td>780-65-24</td>\n",
              "            <td></td>\n",
              "            <td></td>\n",
              "            <td>Madrid</td>\n",
              "        </tr>\n",
              "        <tr>\n",
              "            <td>13</td>\n",
              "            <td>Pol Moya Pena</td>\n",
              "            <td>polmoya@gmail.com</td>\n",
              "            <td>780-25-24</td>\n",
              "            <td></td>\n",
              "            <td></td>\n",
              "            <td>Toledo</td>\n",
              "        </tr>\n",
              "        <tr>\n",
              "            <td>16</td>\n",
              "            <td>Carla Mana</td>\n",
              "            <td>None</td>\n",
              "            <td>123456</td>\n",
              "            <td>None</td>\n",
              "            <td>None</td>\n",
              "            <td>Segovia</td>\n",
              "        </tr>\n",
              "    </tbody>\n",
              "</table>"
            ]
          },
          "metadata": {},
          "execution_count": 12
        }
      ]
    },
    {
      "cell_type": "code",
      "source": [
        "%sql SELECT nombre AS \"nombre_cliente\", telefono AS \"teléfono\" FROM cliente WHERE (contacto='') OR (contacto IS NULL);"
      ],
      "metadata": {
        "colab": {
          "base_uri": "https://localhost:8080/",
          "height": 160
        },
        "id": "zf4BOonjdUFM",
        "outputId": "fbc9a01e-351c-4333-e57f-0c244f248845"
      },
      "execution_count": null,
      "outputs": [
        {
          "output_type": "stream",
          "name": "stdout",
          "text": [
            " * sqlite:///love4pets.db\n",
            "Done.\n"
          ]
        },
        {
          "output_type": "execute_result",
          "data": {
            "text/plain": [
              "[('Arnau Medina Garcia', '094-10-88'),\n",
              " ('Jan Vargas Santana', '780-65-24'),\n",
              " ('Pol Moya Pena', '780-25-24'),\n",
              " ('Carla Mana', '123456')]"
            ],
            "text/html": [
              "<table>\n",
              "    <thead>\n",
              "        <tr>\n",
              "            <th>nombre_cliente</th>\n",
              "            <th>teléfono</th>\n",
              "        </tr>\n",
              "    </thead>\n",
              "    <tbody>\n",
              "        <tr>\n",
              "            <td>Arnau Medina Garcia</td>\n",
              "            <td>094-10-88</td>\n",
              "        </tr>\n",
              "        <tr>\n",
              "            <td>Jan Vargas Santana</td>\n",
              "            <td>780-65-24</td>\n",
              "        </tr>\n",
              "        <tr>\n",
              "            <td>Pol Moya Pena</td>\n",
              "            <td>780-25-24</td>\n",
              "        </tr>\n",
              "        <tr>\n",
              "            <td>Carla Mana</td>\n",
              "            <td>123456</td>\n",
              "        </tr>\n",
              "    </tbody>\n",
              "</table>"
            ]
          },
          "metadata": {},
          "execution_count": 11
        }
      ]
    },
    {
      "cell_type": "markdown",
      "source": [
        "NOTA: Eliminamos esta última línea agregada a la BD con fines demostrativos, para seguir con la BD original para las próximas consultas y verificamos visualizando nuevamente la tabla completa."
      ],
      "metadata": {
        "id": "grCEAfp97t5e"
      }
    },
    {
      "cell_type": "code",
      "source": [
        "%sql DELETE FROM cliente WHERE cliente_id=16;"
      ],
      "metadata": {
        "colab": {
          "base_uri": "https://localhost:8080/"
        },
        "id": "ShpQAjbT8AZs",
        "outputId": "c9c9ff8c-dfa6-45b2-f378-d91a1d858771"
      },
      "execution_count": null,
      "outputs": [
        {
          "output_type": "stream",
          "name": "stdout",
          "text": [
            " * sqlite:///love4pets.db\n",
            "0 rows affected.\n"
          ]
        },
        {
          "output_type": "execute_result",
          "data": {
            "text/plain": [
              "[]"
            ]
          },
          "metadata": {},
          "execution_count": 3
        }
      ]
    },
    {
      "cell_type": "code",
      "source": [
        "%sql SELECT * FROM cliente;"
      ],
      "metadata": {
        "colab": {
          "base_uri": "https://localhost:8080/",
          "height": 390
        },
        "id": "euBoAftk9i_2",
        "outputId": "4f8d64be-562d-4c91-e251-156bb86b430b"
      },
      "execution_count": null,
      "outputs": [
        {
          "output_type": "stream",
          "name": "stdout",
          "text": [
            " * sqlite:///love4pets.db\n",
            "Done.\n"
          ]
        },
        {
          "output_type": "execute_result",
          "data": {
            "text/plain": [
              "[(1, 'Mario Flores Gallardo', 'marioflores@gmail.com', '036-15-36', 'Aintzane Alvarez Iglesias', '210-35-57', 'Madrid'),\n",
              " (2, 'Arnau Medina Garcia', 'arnaumedina@gmail.com', '094-10-88', '', '', 'Madrid'),\n",
              " (3, 'Ivan Medina Rubio', 'ivanmedina@gmail.com', '083-08-72', 'Javier Domenech', '488-48-46', 'Toledo'),\n",
              " (4, 'Jan Vargas Santana', 'vargasjan@gmail.com', '780-65-24', '', '', 'Madrid'),\n",
              " (5, 'Carlos Costa Guerrero', 'carloscostag@gmail.com', '180-65-24', 'Cristian Jimenez', '801-28-09', 'Madrid'),\n",
              " (6, 'Roberto Martin Ortega', 'robertmartin@gmail.com', '742-63-27', 'Jorge Vila Gallardo', '564-52-13', 'Madrid'),\n",
              " (7, 'Gabriel Gonzalez Ortega', 'gabogonzo@gmail.com', '780-13-14', 'Miguel Bosch Parra', '882-17-20', 'Madrid'),\n",
              " (8, 'Rayan Leon Ferrer', 'rayito@gmail.com', '430-65-24', 'Santiago Perez Ramos', '577-21-24', 'Madrid'),\n",
              " (9, 'Aitor Ruiz Sanchez', 'aitorsanchez@gmail.com', '780-77-24', 'Gabriel Gonzalez Ortega', '784-96-31', 'Madrid'),\n",
              " (10, 'Eric Rubio Carrasco', 'ericrubio@gmail.com', '780-65-79', 'Cristian Jimenez Martinez', '147-01-12', 'Madrid'),\n",
              " (11, 'Alberto Sanz Ruiz', 'albert@gmail.com', '781-15-24', 'Gabriel Gonzalez Ortega', '028-51-21', 'Madrid'),\n",
              " (12, 'Jesus Medina Hernandez', 'jmedinah@gmail.com', '782-35-25', 'Vctor Gonzalez Castillo', '661-85-12', 'Madrid'),\n",
              " (13, 'Pol Moya Pena', 'polmoya@gmail.com', '780-25-24', '', '', 'Toledo'),\n",
              " (14, 'Jose Gallardo Rodriguez', 'josegallardo@gmail.com', '783-65-11', 'Hector Martin Morales', '867-97-99', 'Madrid'),\n",
              " (15, 'Manuel Angel Gil', 'manano@gmail.com', '733-65-16', 'Hector Navarro', '067-97-91', 'Madrid')]"
            ],
            "text/html": [
              "<table>\n",
              "    <thead>\n",
              "        <tr>\n",
              "            <th>cliente_id</th>\n",
              "            <th>nombre</th>\n",
              "            <th>email</th>\n",
              "            <th>telefono</th>\n",
              "            <th>contacto</th>\n",
              "            <th>telefono_contacto</th>\n",
              "            <th>ciudad</th>\n",
              "        </tr>\n",
              "    </thead>\n",
              "    <tbody>\n",
              "        <tr>\n",
              "            <td>1</td>\n",
              "            <td>Mario Flores Gallardo</td>\n",
              "            <td>marioflores@gmail.com</td>\n",
              "            <td>036-15-36</td>\n",
              "            <td>Aintzane Alvarez Iglesias</td>\n",
              "            <td>210-35-57</td>\n",
              "            <td>Madrid</td>\n",
              "        </tr>\n",
              "        <tr>\n",
              "            <td>2</td>\n",
              "            <td>Arnau Medina Garcia</td>\n",
              "            <td>arnaumedina@gmail.com</td>\n",
              "            <td>094-10-88</td>\n",
              "            <td></td>\n",
              "            <td></td>\n",
              "            <td>Madrid</td>\n",
              "        </tr>\n",
              "        <tr>\n",
              "            <td>3</td>\n",
              "            <td>Ivan Medina Rubio</td>\n",
              "            <td>ivanmedina@gmail.com</td>\n",
              "            <td>083-08-72</td>\n",
              "            <td>Javier Domenech</td>\n",
              "            <td>488-48-46</td>\n",
              "            <td>Toledo</td>\n",
              "        </tr>\n",
              "        <tr>\n",
              "            <td>4</td>\n",
              "            <td>Jan Vargas Santana</td>\n",
              "            <td>vargasjan@gmail.com</td>\n",
              "            <td>780-65-24</td>\n",
              "            <td></td>\n",
              "            <td></td>\n",
              "            <td>Madrid</td>\n",
              "        </tr>\n",
              "        <tr>\n",
              "            <td>5</td>\n",
              "            <td>Carlos Costa Guerrero</td>\n",
              "            <td>carloscostag@gmail.com</td>\n",
              "            <td>180-65-24</td>\n",
              "            <td>Cristian Jimenez</td>\n",
              "            <td>801-28-09</td>\n",
              "            <td>Madrid</td>\n",
              "        </tr>\n",
              "        <tr>\n",
              "            <td>6</td>\n",
              "            <td>Roberto Martin Ortega</td>\n",
              "            <td>robertmartin@gmail.com</td>\n",
              "            <td>742-63-27</td>\n",
              "            <td>Jorge Vila Gallardo</td>\n",
              "            <td>564-52-13</td>\n",
              "            <td>Madrid</td>\n",
              "        </tr>\n",
              "        <tr>\n",
              "            <td>7</td>\n",
              "            <td>Gabriel Gonzalez Ortega</td>\n",
              "            <td>gabogonzo@gmail.com</td>\n",
              "            <td>780-13-14</td>\n",
              "            <td>Miguel Bosch Parra</td>\n",
              "            <td>882-17-20</td>\n",
              "            <td>Madrid</td>\n",
              "        </tr>\n",
              "        <tr>\n",
              "            <td>8</td>\n",
              "            <td>Rayan Leon Ferrer</td>\n",
              "            <td>rayito@gmail.com</td>\n",
              "            <td>430-65-24</td>\n",
              "            <td>Santiago Perez Ramos</td>\n",
              "            <td>577-21-24</td>\n",
              "            <td>Madrid</td>\n",
              "        </tr>\n",
              "        <tr>\n",
              "            <td>9</td>\n",
              "            <td>Aitor Ruiz Sanchez</td>\n",
              "            <td>aitorsanchez@gmail.com</td>\n",
              "            <td>780-77-24</td>\n",
              "            <td>Gabriel Gonzalez Ortega</td>\n",
              "            <td>784-96-31</td>\n",
              "            <td>Madrid</td>\n",
              "        </tr>\n",
              "        <tr>\n",
              "            <td>10</td>\n",
              "            <td>Eric Rubio Carrasco</td>\n",
              "            <td>ericrubio@gmail.com</td>\n",
              "            <td>780-65-79</td>\n",
              "            <td>Cristian Jimenez Martinez</td>\n",
              "            <td>147-01-12</td>\n",
              "            <td>Madrid</td>\n",
              "        </tr>\n",
              "        <tr>\n",
              "            <td>11</td>\n",
              "            <td>Alberto Sanz Ruiz</td>\n",
              "            <td>albert@gmail.com</td>\n",
              "            <td>781-15-24</td>\n",
              "            <td>Gabriel Gonzalez Ortega</td>\n",
              "            <td>028-51-21</td>\n",
              "            <td>Madrid</td>\n",
              "        </tr>\n",
              "        <tr>\n",
              "            <td>12</td>\n",
              "            <td>Jesus Medina Hernandez</td>\n",
              "            <td>jmedinah@gmail.com</td>\n",
              "            <td>782-35-25</td>\n",
              "            <td>Vctor Gonzalez Castillo</td>\n",
              "            <td>661-85-12</td>\n",
              "            <td>Madrid</td>\n",
              "        </tr>\n",
              "        <tr>\n",
              "            <td>13</td>\n",
              "            <td>Pol Moya Pena</td>\n",
              "            <td>polmoya@gmail.com</td>\n",
              "            <td>780-25-24</td>\n",
              "            <td></td>\n",
              "            <td></td>\n",
              "            <td>Toledo</td>\n",
              "        </tr>\n",
              "        <tr>\n",
              "            <td>14</td>\n",
              "            <td>Jose Gallardo Rodriguez</td>\n",
              "            <td>josegallardo@gmail.com</td>\n",
              "            <td>783-65-11</td>\n",
              "            <td>Hector Martin Morales</td>\n",
              "            <td>867-97-99</td>\n",
              "            <td>Madrid</td>\n",
              "        </tr>\n",
              "        <tr>\n",
              "            <td>15</td>\n",
              "            <td>Manuel Angel Gil</td>\n",
              "            <td>manano@gmail.com</td>\n",
              "            <td>733-65-16</td>\n",
              "            <td>Hector Navarro</td>\n",
              "            <td>067-97-91</td>\n",
              "            <td>Madrid</td>\n",
              "        </tr>\n",
              "    </tbody>\n",
              "</table>"
            ]
          },
          "metadata": {},
          "execution_count": 4
        }
      ]
    },
    {
      "cell_type": "markdown",
      "metadata": {
        "id": "SjcD42-SeqR5"
      },
      "source": [
        "### **Ejercicio 3**\n",
        "--------\n",
        "Un empleado de la empresa Love4Pets se dió cuenta que un cliente dejó por accidente su celular, el empleado recuerda que alguno de sus apellidos era \"Leon\".\n",
        "\n",
        "Se quiere que determinar a quien pertenece el celular extraviado, y en caso de ser posible avisar a su persona de contacto que el celular está a salvo y pueden pasar buscandolo en cualquier momento.\n",
        "   \n",
        "Se sabe que la tabla **\"cliente\"** tiene un campo **\"nombre\"** el cual contiene nombres y apellidos, el campo **\"contacto\"** que tiene el nombre de la persona de contacto y el campo **\"telefono_contacto\"** que tiene el telefono de la persona de contacto."
      ]
    },
    {
      "cell_type": "markdown",
      "source": [
        "En este caso sabemos, por lo que recuerda el empleado, que podemos determinar a quién pertenece el celular extraviado y encontrar los datos del contacto de dicho cliente utilizando el patrón \"Leon\" sobre la columna **nombre**. Podemos entonces utilizar la consulta SQL con la **cláusula WHERE** y el **operador LIKE** de la siguiente manera:"
      ],
      "metadata": {
        "id": "I3Tam7IXdrNZ"
      }
    },
    {
      "cell_type": "code",
      "execution_count": null,
      "metadata": {
        "colab": {
          "base_uri": "https://localhost:8080/",
          "height": 97
        },
        "id": "4fZJkE3GeqR6",
        "outputId": "e5c8d27f-da83-4b60-fb72-5ec390c5277c"
      },
      "outputs": [
        {
          "output_type": "stream",
          "name": "stdout",
          "text": [
            " * sqlite:///love4pets.db\n",
            "Done.\n"
          ]
        },
        {
          "output_type": "execute_result",
          "data": {
            "text/plain": [
              "[('Rayan Leon Ferrer', 'Santiago Perez Ramos', '577-21-24')]"
            ],
            "text/html": [
              "<table>\n",
              "    <thead>\n",
              "        <tr>\n",
              "            <th>nombre_y_apellido_cliente</th>\n",
              "            <th>nombre_contacto</th>\n",
              "            <th>teléfono_contacto</th>\n",
              "        </tr>\n",
              "    </thead>\n",
              "    <tbody>\n",
              "        <tr>\n",
              "            <td>Rayan Leon Ferrer</td>\n",
              "            <td>Santiago Perez Ramos</td>\n",
              "            <td>577-21-24</td>\n",
              "        </tr>\n",
              "    </tbody>\n",
              "</table>"
            ]
          },
          "metadata": {},
          "execution_count": 13
        }
      ],
      "source": [
        "%sql SELECT nombre AS \"nombre_y_apellido_cliente\", contacto AS \"nombre_contacto\", telefono_contacto AS \"teléfono_contacto\" FROM cliente WHERE nombre LIKE \"%Leon%\";"
      ]
    },
    {
      "cell_type": "markdown",
      "source": [
        "La instrucción anterior busca todos los clientes y los datos de su correspondiente contacto, cuyo campo *nombre_y_apellido_cliente* contiene la secuencia de caracteres \"Leon\" en alguna posición. Se determina inequívocamente quién es el cliente que extravió el celular, ya que el registro mostrado al realizar la consulta es único."
      ],
      "metadata": {
        "id": "uYnuCrAgit7A"
      }
    },
    {
      "cell_type": "markdown",
      "metadata": {
        "id": "jFWqnsNeeqR9"
      },
      "source": [
        "### **Ejercicio 4**\n",
        "--------\n",
        "La empresa Love4Pets considera hacer un descuento sobre los productos que cuestan entre 10 y 20 euros, y complementos vitamínicos.\n",
        "      \n",
        "Se requiere que liste las columnas \"nombre\", \"descripcion\", \"precio\" de productos a los que debe ser aplicado el descuento. ( asuma que los productos se encuentran en la tabla \"producto\" )\n",
        "   \n",
        "Asuma que el producto vitaminico no lleva acentos, generalmente estos productos tienen la palabra vitamina en la **\"descripcion\"** pero podria ser alguna variante como vitaminico o comenzar por mayusculas, el departamento de informática recomendó usar la función Like para esta busqueda."
      ]
    },
    {
      "cell_type": "markdown",
      "source": [
        "Se interpreta del enunciado que los descuentos se realizarán en aquellos productos que cuestan entre 10 y 20 euros, como así también en aquellos que sean complementos vitamínicos. Es por ello, que para obtener el listado con los campos pedidos de esos productos, se realizará la consulta SQL a la tabla **producto** utilizando dichas condiciones en la **cláusula WHERE** con los **operadores BETWEEN, AND y OR**. Además, como los complementos vitamínicos pueden esta ingresados en el campo **descripción** como vitamina o alguna variante de vitamínico o comenzar con mayúsculas, se utiliza el **operador LIKE** combinado con los símbolos **\"_\"** y **\"%\"** para filtrar, como sigue:  "
      ],
      "metadata": {
        "id": "fWnezt1P12sB"
      }
    },
    {
      "cell_type": "code",
      "execution_count": null,
      "metadata": {
        "colab": {
          "base_uri": "https://localhost:8080/",
          "height": 161
        },
        "id": "wSl1doJVeqR-",
        "outputId": "215f2acf-bf34-4eaa-8c90-39a840e58e69"
      },
      "outputs": [
        {
          "output_type": "stream",
          "name": "stdout",
          "text": [
            " * sqlite:///love4pets.db\n",
            "Done.\n"
          ]
        },
        {
          "output_type": "execute_result",
          "data": {
            "text/plain": [
              "[('Vitaminas', 'Complemento vitaminico', 5),\n",
              " ('Perrarina', 'Huesos', 12),\n",
              " ('Gatarina', 'Catspettito', 13),\n",
              " ('Consulta', 'Consulta veterinaria', 15)]"
            ],
            "text/html": [
              "<table>\n",
              "    <thead>\n",
              "        <tr>\n",
              "            <th>nombre_producto</th>\n",
              "            <th>descripción_producto</th>\n",
              "            <th>precio</th>\n",
              "        </tr>\n",
              "    </thead>\n",
              "    <tbody>\n",
              "        <tr>\n",
              "            <td>Vitaminas</td>\n",
              "            <td>Complemento vitaminico</td>\n",
              "            <td>5</td>\n",
              "        </tr>\n",
              "        <tr>\n",
              "            <td>Perrarina</td>\n",
              "            <td>Huesos</td>\n",
              "            <td>12</td>\n",
              "        </tr>\n",
              "        <tr>\n",
              "            <td>Gatarina</td>\n",
              "            <td>Catspettito</td>\n",
              "            <td>13</td>\n",
              "        </tr>\n",
              "        <tr>\n",
              "            <td>Consulta</td>\n",
              "            <td>Consulta veterinaria</td>\n",
              "            <td>15</td>\n",
              "        </tr>\n",
              "    </tbody>\n",
              "</table>"
            ]
          },
          "metadata": {},
          "execution_count": 6
        }
      ],
      "source": [
        "%sql SELECT nombre AS \"nombre_producto\", descripcion AS \"descripción_producto\", precio FROM producto WHERE (precio BETWEEN 10 AND 20) OR ((descripcion LIKE \"_itamina\") OR (descripcion LIKE \"%itaminico%\"));"
      ]
    },
    {
      "cell_type": "markdown",
      "source": [
        "La instrucción anterior busca el nombre, descripcion y precio de los productos cuyo precio está entre 10 y 20 euros, la descripción es vitamina con mayúscula o minúscula o contiene la secuencia de caracteres \"itaminico\", ya que puede ser mayúscula o minúscula la letra v."
      ],
      "metadata": {
        "id": "05Aoi64K8vkj"
      }
    },
    {
      "cell_type": "markdown",
      "metadata": {
        "id": "DK5kr83IeqR_"
      },
      "source": [
        "### **Ejercicio 5**\n",
        "--------\n",
        "*La empresa Love4Pets esta considerando realizar un aumento.*\n",
        "    \n",
        "*Se requiere que indique cual es el menor sueldo que está pagando la empresa.*"
      ]
    },
    {
      "cell_type": "markdown",
      "source": [
        "Para saber cuál es el menor sueldo que está pagando la empresa, en principio tenemos que consultar la tabla **empleado** de **love4pets.db** para conocer si entre sus campos incluye el campo sueldo y así poder consultarlo. Entonces utilizamos la instrucción **PRAGMA table_info(Tabla)**:"
      ],
      "metadata": {
        "id": "itGnbjoK_TWG"
      }
    },
    {
      "cell_type": "code",
      "source": [
        "%sql PRAGMA table_info(empleado);"
      ],
      "metadata": {
        "colab": {
          "base_uri": "https://localhost:8080/",
          "height": 225
        },
        "id": "ESRt2rXSAoqi",
        "outputId": "5c5e2c3b-13d1-4e48-933f-d3d5005d247e"
      },
      "execution_count": null,
      "outputs": [
        {
          "output_type": "stream",
          "name": "stdout",
          "text": [
            " * sqlite:///love4pets.db\n",
            "Done.\n"
          ]
        },
        {
          "output_type": "execute_result",
          "data": {
            "text/plain": [
              "[(0, 'empleado_id', 'INTEGER', 1, None, 1),\n",
              " (1, 'nombre', 'TEXT', 1, None, 0),\n",
              " (2, 'email', 'TEXT', 0, None, 0),\n",
              " (3, 'telefono', 'TEXT', 0, None, 0),\n",
              " (4, 'salario', 'INTEGER', 1, None, 0),\n",
              " (5, 'fecha_ingreso', 'DATETIME', 1, 'CURRENT_DATE', 0),\n",
              " (6, 'departamento_id', 'INTEGER', 0, None, 0)]"
            ],
            "text/html": [
              "<table>\n",
              "    <thead>\n",
              "        <tr>\n",
              "            <th>cid</th>\n",
              "            <th>name</th>\n",
              "            <th>type</th>\n",
              "            <th>notnull</th>\n",
              "            <th>dflt_value</th>\n",
              "            <th>pk</th>\n",
              "        </tr>\n",
              "    </thead>\n",
              "    <tbody>\n",
              "        <tr>\n",
              "            <td>0</td>\n",
              "            <td>empleado_id</td>\n",
              "            <td>INTEGER</td>\n",
              "            <td>1</td>\n",
              "            <td>None</td>\n",
              "            <td>1</td>\n",
              "        </tr>\n",
              "        <tr>\n",
              "            <td>1</td>\n",
              "            <td>nombre</td>\n",
              "            <td>TEXT</td>\n",
              "            <td>1</td>\n",
              "            <td>None</td>\n",
              "            <td>0</td>\n",
              "        </tr>\n",
              "        <tr>\n",
              "            <td>2</td>\n",
              "            <td>email</td>\n",
              "            <td>TEXT</td>\n",
              "            <td>0</td>\n",
              "            <td>None</td>\n",
              "            <td>0</td>\n",
              "        </tr>\n",
              "        <tr>\n",
              "            <td>3</td>\n",
              "            <td>telefono</td>\n",
              "            <td>TEXT</td>\n",
              "            <td>0</td>\n",
              "            <td>None</td>\n",
              "            <td>0</td>\n",
              "        </tr>\n",
              "        <tr>\n",
              "            <td>4</td>\n",
              "            <td>salario</td>\n",
              "            <td>INTEGER</td>\n",
              "            <td>1</td>\n",
              "            <td>None</td>\n",
              "            <td>0</td>\n",
              "        </tr>\n",
              "        <tr>\n",
              "            <td>5</td>\n",
              "            <td>fecha_ingreso</td>\n",
              "            <td>DATETIME</td>\n",
              "            <td>1</td>\n",
              "            <td>CURRENT_DATE</td>\n",
              "            <td>0</td>\n",
              "        </tr>\n",
              "        <tr>\n",
              "            <td>6</td>\n",
              "            <td>departamento_id</td>\n",
              "            <td>INTEGER</td>\n",
              "            <td>0</td>\n",
              "            <td>None</td>\n",
              "            <td>0</td>\n",
              "        </tr>\n",
              "    </tbody>\n",
              "</table>"
            ]
          },
          "metadata": {},
          "execution_count": 7
        }
      ]
    },
    {
      "cell_type": "markdown",
      "source": [
        "Podemos observar que la tabla **empleado** contiene los campos:\n",
        "\n",
        "*   empleado_id\n",
        "*   nombre\n",
        "*   email\n",
        "*   telefono\n",
        "*   salario\n",
        "*   fecha_ingreso\n",
        "*   departamento_id\n",
        "\n",
        "\n",
        "\n",
        "\n",
        "\n",
        "\n"
      ],
      "metadata": {
        "id": "yQcbjdiMAvwZ"
      }
    },
    {
      "cell_type": "markdown",
      "source": [
        "Vemos que la tabla tiene el campo **salario**, que significa lo mismo que sueldo, así que sabemos que la consulta la realizaremos sobre dicho campo.\n",
        "Como esta columna permite registros con valores enteros, podemos utilizar la **función MIN** para obtener el menor valor de la lista de salarios. Entonces, para obtener el menor sueldo que está pagando la empresa realizaremos la siguiente consulta SQL:"
      ],
      "metadata": {
        "id": "bONUqDTvBXX8"
      }
    },
    {
      "cell_type": "code",
      "execution_count": null,
      "metadata": {
        "colab": {
          "base_uri": "https://localhost:8080/",
          "height": 96
        },
        "id": "BJKsu4ASeqSA",
        "outputId": "87399688-4ff1-49be-af88-522825053298"
      },
      "outputs": [
        {
          "output_type": "stream",
          "name": "stdout",
          "text": [
            " * sqlite:///love4pets.db\n",
            "Done.\n"
          ]
        },
        {
          "output_type": "execute_result",
          "data": {
            "text/plain": [
              "[(1000,)]"
            ],
            "text/html": [
              "<table>\n",
              "    <thead>\n",
              "        <tr>\n",
              "            <th>menor sueldo</th>\n",
              "        </tr>\n",
              "    </thead>\n",
              "    <tbody>\n",
              "        <tr>\n",
              "            <td>1000</td>\n",
              "        </tr>\n",
              "    </tbody>\n",
              "</table>"
            ]
          },
          "metadata": {},
          "execution_count": 11
        }
      ],
      "source": [
        "%sql SELECT MIN(salario) AS \"menor sueldo\" FROM empleado;"
      ]
    },
    {
      "cell_type": "markdown",
      "source": [
        "El menor sueldo que paga la empresa es de 1000."
      ],
      "metadata": {
        "id": "tABS8cwg_PKp"
      }
    },
    {
      "cell_type": "markdown",
      "metadata": {
        "id": "JiSlG5fheqSB"
      },
      "source": [
        "### **Ejercicio 6**\n",
        "--------\n",
        "*La empresa Love4Pets continúa estudiando un ajuste en los salarios de los empleados, por lo que se quiere conocer el presupuesto total requerido para el pago de los salarios en un año.*"
      ]
    },
    {
      "cell_type": "markdown",
      "source": [
        "El presupuesto total requerido para el pago de los salarios en un año lo constituye la suma de los salarios mensuales multiplicado por la cantidad de meses del año. Por lo tanto, para obtener el presupuesto total debemos realizar la consulta SQL sobre el campo **salario** de la tabla **empleado** utilizando la **función SUM** que retorna la suma de los valores de la columna seleccionada de la tabla y multiplicarla por 12 (cantidad de meses). Se obtiene, entonces:"
      ],
      "metadata": {
        "id": "fJKRoL3OFXCS"
      }
    },
    {
      "cell_type": "code",
      "execution_count": null,
      "metadata": {
        "colab": {
          "base_uri": "https://localhost:8080/",
          "height": 96
        },
        "id": "F4hejvMWeqSC",
        "outputId": "4da8a978-f3f8-424f-f338-2c6af57bed43"
      },
      "outputs": [
        {
          "output_type": "stream",
          "name": "stdout",
          "text": [
            " * sqlite:///love4pets.db\n",
            "Done.\n"
          ]
        },
        {
          "output_type": "execute_result",
          "data": {
            "text/plain": [
              "[(210000,)]"
            ],
            "text/html": [
              "<table>\n",
              "    <thead>\n",
              "        <tr>\n",
              "            <th>presupuesto total</th>\n",
              "        </tr>\n",
              "    </thead>\n",
              "    <tbody>\n",
              "        <tr>\n",
              "            <td>210000</td>\n",
              "        </tr>\n",
              "    </tbody>\n",
              "</table>"
            ]
          },
          "metadata": {},
          "execution_count": 12
        }
      ],
      "source": [
        "%sql SELECT 12*SUM(salario) AS \"presupuesto total\" FROM empleado;"
      ]
    },
    {
      "cell_type": "markdown",
      "source": [
        "Cabe aclarar, que en el enunciado no consigna si la empresa Love4Pets paga 13 o 14 salarios al año como determinan la mayoría de las legislaciones vigentes en la unión europea. Si suponemos que se cumple la legislación con el pago de 14 salarios al año, la consulta SQL se ve alterada de la siguiente manera:"
      ],
      "metadata": {
        "id": "ZpIaErPX_3tX"
      }
    },
    {
      "cell_type": "code",
      "source": [
        "%sql SELECT 14*SUM(salario) AS \"presupuesto total\" FROM empleado;"
      ],
      "metadata": {
        "colab": {
          "base_uri": "https://localhost:8080/",
          "height": 97
        },
        "id": "895M1bPGBY2J",
        "outputId": "4110f1b5-3ad4-4ba6-ccb2-59dffdd59244"
      },
      "execution_count": null,
      "outputs": [
        {
          "output_type": "stream",
          "name": "stdout",
          "text": [
            " * sqlite:///love4pets.db\n",
            "Done.\n"
          ]
        },
        {
          "output_type": "execute_result",
          "data": {
            "text/plain": [
              "[(245000,)]"
            ],
            "text/html": [
              "<table>\n",
              "    <thead>\n",
              "        <tr>\n",
              "            <th>presupuesto total</th>\n",
              "        </tr>\n",
              "    </thead>\n",
              "    <tbody>\n",
              "        <tr>\n",
              "            <td>245000</td>\n",
              "        </tr>\n",
              "    </tbody>\n",
              "</table>"
            ]
          },
          "metadata": {},
          "execution_count": 5
        }
      ]
    },
    {
      "cell_type": "markdown",
      "source": [
        "Entonces, el presupuesto total requerido por la empresa para el pago de salarios de un año es de 245000 €."
      ],
      "metadata": {
        "id": "aJW6SxxeBfq-"
      }
    },
    {
      "cell_type": "markdown",
      "metadata": {
        "id": "8npIZN5ZeqSG"
      },
      "source": [
        "### **Ejercicio 7**\n",
        "--------\n",
        "*Considerando la tabla \"cliente\" y la tabla \"mascota\" las cuales tienen una relación uno a muchos. Indique los clientes que no tienen mascota registrada.*"
      ]
    },
    {
      "cell_type": "markdown",
      "source": [
        "De los ejercicios anteriores conocemos los campos que posee la tabla **cliente**. Sin embargo, no conocemos que datos incluye la tabla **mascota**, por lo que en primer lugar consultaremos la información de esta última utilizando la instrucción **PRAGMA table_info(Tabla)**:"
      ],
      "metadata": {
        "id": "nS8Sxo3EEhxF"
      }
    },
    {
      "cell_type": "code",
      "source": [
        "%sql PRAGMA table_info(mascota);"
      ],
      "metadata": {
        "colab": {
          "base_uri": "https://localhost:8080/",
          "height": 202
        },
        "id": "ZEmJgCKeFeVw",
        "outputId": "8dd0d08b-d2dc-4798-83ba-abe8800f6006"
      },
      "execution_count": null,
      "outputs": [
        {
          "output_type": "stream",
          "name": "stdout",
          "text": [
            " * sqlite:///love4pets.db\n",
            "Done.\n"
          ]
        },
        {
          "output_type": "execute_result",
          "data": {
            "text/plain": [
              "[(0, 'mascota_id', 'INTEGER', 1, None, 1),\n",
              " (1, 'nombre', 'TEXT', 1, None, 0),\n",
              " (2, 'cliente_id', 'INTEGER', 1, None, 0),\n",
              " (3, 'especie', 'TEXT', 1, None, 0),\n",
              " (4, 'raza', 'TEXT', 1, None, 0),\n",
              " (5, 'fecha_nacimiento', 'DATETIME', 1, 'CURRENT_DATE', 0)]"
            ],
            "text/html": [
              "<table>\n",
              "    <thead>\n",
              "        <tr>\n",
              "            <th>cid</th>\n",
              "            <th>name</th>\n",
              "            <th>type</th>\n",
              "            <th>notnull</th>\n",
              "            <th>dflt_value</th>\n",
              "            <th>pk</th>\n",
              "        </tr>\n",
              "    </thead>\n",
              "    <tbody>\n",
              "        <tr>\n",
              "            <td>0</td>\n",
              "            <td>mascota_id</td>\n",
              "            <td>INTEGER</td>\n",
              "            <td>1</td>\n",
              "            <td>None</td>\n",
              "            <td>1</td>\n",
              "        </tr>\n",
              "        <tr>\n",
              "            <td>1</td>\n",
              "            <td>nombre</td>\n",
              "            <td>TEXT</td>\n",
              "            <td>1</td>\n",
              "            <td>None</td>\n",
              "            <td>0</td>\n",
              "        </tr>\n",
              "        <tr>\n",
              "            <td>2</td>\n",
              "            <td>cliente_id</td>\n",
              "            <td>INTEGER</td>\n",
              "            <td>1</td>\n",
              "            <td>None</td>\n",
              "            <td>0</td>\n",
              "        </tr>\n",
              "        <tr>\n",
              "            <td>3</td>\n",
              "            <td>especie</td>\n",
              "            <td>TEXT</td>\n",
              "            <td>1</td>\n",
              "            <td>None</td>\n",
              "            <td>0</td>\n",
              "        </tr>\n",
              "        <tr>\n",
              "            <td>4</td>\n",
              "            <td>raza</td>\n",
              "            <td>TEXT</td>\n",
              "            <td>1</td>\n",
              "            <td>None</td>\n",
              "            <td>0</td>\n",
              "        </tr>\n",
              "        <tr>\n",
              "            <td>5</td>\n",
              "            <td>fecha_nacimiento</td>\n",
              "            <td>DATETIME</td>\n",
              "            <td>1</td>\n",
              "            <td>CURRENT_DATE</td>\n",
              "            <td>0</td>\n",
              "        </tr>\n",
              "    </tbody>\n",
              "</table>"
            ]
          },
          "metadata": {},
          "execution_count": 6
        }
      ]
    },
    {
      "cell_type": "markdown",
      "source": [
        "Podemos observar que la tabla **mascota** contiene los campos:\n",
        "\n",
        "*   mascota_id\n",
        "*   nombre\n",
        "*   cliente_id\n",
        "*   especie\n",
        "*   raza\n",
        "*   fecha_nacimiento\n",
        "\n",
        "Donde el campo **mascota_id** es la *clave primaria (primary key)* y el campo **cliente_id** es la *clave foránea (foreign key)*, ya que es clave primaria de la tabla **cliente** como vimos en ejercicios anteriores. Entonces, estas tablas están relacionadas mediante dicha clave foránea y por medio de esta podemos consultar campos de la otra tabla haciendo consultas anidadas o utilizando la cláusula JOIN.\n",
        "\n",
        "Por lo tanto, para obtener los clientes que tienen o no mascota registrada utilizaremos la consulta SQL con la **cláusula LEFT JOIN**, que nos permite retornar el nombre del cliente de la primera tabla (tabla cliente) y los registros que coinciden con la segunda tabla (tabla mascota), excluyendo los registros que se encuentren en la segunda tabla pero que no hacen match con la primera. Además, como sólo queremos obtener la lista de los que no tienen mascota, utilizamos la **cláusula WHERE** para cuando el campo **nombre** de la tabla **mascota** no tiene valor, es decir es nulo o está vacío."
      ],
      "metadata": {
        "id": "vDrmMyXCFtSX"
      }
    },
    {
      "cell_type": "code",
      "source": [
        "%%sql SELECT\n",
        "cliente.nombre as 'nombre_cliente',\n",
        "mascota.nombre as 'nombre_mascota'\n",
        "FROM cliente\n",
        "LEFT JOIN mascota ON cliente.cliente_id=mascota.cliente_id\n",
        "WHERE (mascota.nombre IS NULL) OR (mascota.nombre='')"
      ],
      "metadata": {
        "colab": {
          "base_uri": "https://localhost:8080/",
          "height": 223
        },
        "id": "smTmPncClbie",
        "outputId": "3c86f051-c301-4b70-e5d3-be779c2b1b87"
      },
      "execution_count": null,
      "outputs": [
        {
          "output_type": "stream",
          "name": "stdout",
          "text": [
            " * sqlite:///love4pets.db\n",
            "Done.\n"
          ]
        },
        {
          "output_type": "execute_result",
          "data": {
            "text/plain": [
              "[('Mario Flores Gallardo', None),\n",
              " ('Jan Vargas Santana', None),\n",
              " ('Aitor Ruiz Sanchez', None),\n",
              " ('Eric Rubio Carrasco', None),\n",
              " ('Jesus Medina Hernandez', None),\n",
              " ('Pol Moya Pena', None),\n",
              " ('Manuel Angel Gil', None)]"
            ],
            "text/html": [
              "<table>\n",
              "    <thead>\n",
              "        <tr>\n",
              "            <th>nombre_cliente</th>\n",
              "            <th>nombre_mascota</th>\n",
              "        </tr>\n",
              "    </thead>\n",
              "    <tbody>\n",
              "        <tr>\n",
              "            <td>Mario Flores Gallardo</td>\n",
              "            <td>None</td>\n",
              "        </tr>\n",
              "        <tr>\n",
              "            <td>Jan Vargas Santana</td>\n",
              "            <td>None</td>\n",
              "        </tr>\n",
              "        <tr>\n",
              "            <td>Aitor Ruiz Sanchez</td>\n",
              "            <td>None</td>\n",
              "        </tr>\n",
              "        <tr>\n",
              "            <td>Eric Rubio Carrasco</td>\n",
              "            <td>None</td>\n",
              "        </tr>\n",
              "        <tr>\n",
              "            <td>Jesus Medina Hernandez</td>\n",
              "            <td>None</td>\n",
              "        </tr>\n",
              "        <tr>\n",
              "            <td>Pol Moya Pena</td>\n",
              "            <td>None</td>\n",
              "        </tr>\n",
              "        <tr>\n",
              "            <td>Manuel Angel Gil</td>\n",
              "            <td>None</td>\n",
              "        </tr>\n",
              "    </tbody>\n",
              "</table>"
            ]
          },
          "metadata": {},
          "execution_count": 11
        }
      ]
    },
    {
      "cell_type": "markdown",
      "source": [
        "En el resultado anterior se muestran todos los clientes que no tienen asociado ningún nombre de mascota, es decir que no tienen mascota. Estos clientes figuran en la tabla1 **cliente** pero no figuran en la tabla2 **mascota**, sin embargo sus nombres se muestran porque se utilizó **LEFT JOIN**. Esto se puede visualizar mejor listando el campo de la *clave foránea* en la consulta y mostrando luego la tabla **mascota** para corroborar."
      ],
      "metadata": {
        "id": "AmxEiDF5hEsz"
      }
    },
    {
      "cell_type": "code",
      "execution_count": null,
      "metadata": {
        "colab": {
          "base_uri": "https://localhost:8080/",
          "height": 223
        },
        "id": "ZPljhr8veqSH",
        "outputId": "aef188c1-7daf-41ad-bf97-d048a3de5fa1"
      },
      "outputs": [
        {
          "output_type": "stream",
          "name": "stdout",
          "text": [
            " * sqlite:///love4pets.db\n",
            "Done.\n"
          ]
        },
        {
          "output_type": "execute_result",
          "data": {
            "text/plain": [
              "[(1, 'Mario Flores Gallardo', None),\n",
              " (4, 'Jan Vargas Santana', None),\n",
              " (9, 'Aitor Ruiz Sanchez', None),\n",
              " (10, 'Eric Rubio Carrasco', None),\n",
              " (12, 'Jesus Medina Hernandez', None),\n",
              " (13, 'Pol Moya Pena', None),\n",
              " (15, 'Manuel Angel Gil', None)]"
            ],
            "text/html": [
              "<table>\n",
              "    <thead>\n",
              "        <tr>\n",
              "            <th>id</th>\n",
              "            <th>nombre_cliente</th>\n",
              "            <th>nombre_mascota</th>\n",
              "        </tr>\n",
              "    </thead>\n",
              "    <tbody>\n",
              "        <tr>\n",
              "            <td>1</td>\n",
              "            <td>Mario Flores Gallardo</td>\n",
              "            <td>None</td>\n",
              "        </tr>\n",
              "        <tr>\n",
              "            <td>4</td>\n",
              "            <td>Jan Vargas Santana</td>\n",
              "            <td>None</td>\n",
              "        </tr>\n",
              "        <tr>\n",
              "            <td>9</td>\n",
              "            <td>Aitor Ruiz Sanchez</td>\n",
              "            <td>None</td>\n",
              "        </tr>\n",
              "        <tr>\n",
              "            <td>10</td>\n",
              "            <td>Eric Rubio Carrasco</td>\n",
              "            <td>None</td>\n",
              "        </tr>\n",
              "        <tr>\n",
              "            <td>12</td>\n",
              "            <td>Jesus Medina Hernandez</td>\n",
              "            <td>None</td>\n",
              "        </tr>\n",
              "        <tr>\n",
              "            <td>13</td>\n",
              "            <td>Pol Moya Pena</td>\n",
              "            <td>None</td>\n",
              "        </tr>\n",
              "        <tr>\n",
              "            <td>15</td>\n",
              "            <td>Manuel Angel Gil</td>\n",
              "            <td>None</td>\n",
              "        </tr>\n",
              "    </tbody>\n",
              "</table>"
            ]
          },
          "metadata": {},
          "execution_count": 7
        }
      ],
      "source": [
        "%%sql SELECT\n",
        "cliente.cliente_id as 'id',\n",
        "cliente.nombre as 'nombre_cliente',\n",
        "mascota.nombre as 'nombre_mascota'\n",
        "FROM cliente\n",
        "LEFT JOIN mascota ON cliente.cliente_id=mascota.cliente_id\n",
        "WHERE (mascota.nombre IS NULL) OR (mascota.nombre='')"
      ]
    },
    {
      "cell_type": "code",
      "source": [
        "%sql SELECT * FROM mascota;"
      ],
      "metadata": {
        "colab": {
          "base_uri": "https://localhost:8080/",
          "height": 285
        },
        "id": "xR7xVp5UkeB0",
        "outputId": "87dbdf6b-ddf2-459b-b7cd-d6ff13aba527"
      },
      "execution_count": null,
      "outputs": [
        {
          "output_type": "stream",
          "name": "stdout",
          "text": [
            " * sqlite:///love4pets.db\n",
            "Done.\n"
          ]
        },
        {
          "output_type": "execute_result",
          "data": {
            "text/plain": [
              "[(1, 'Luna', 2, 'gato', 'mestizo', '2009-01-01 00:00:000'),\n",
              " (2, 'Sole', 3, 'gato', 'mestizo', '2010-02-01 00:00:000'),\n",
              " (3, 'Mida', 3, 'perro', 'Caint terrier', '2007-02-03 00:00:000'),\n",
              " (4, 'Tara', 5, 'perro', 'Puddle', '2006-02-03 00:00:000'),\n",
              " (5, 'Pelusa', 6, 'perro', 'Puddle', '2008-02-03 00:00:000'),\n",
              " (6, 'irene', 7, 'gato', 'siames', '2015-02-03 00:00:000'),\n",
              " (7, 'sara', 8, 'gato', 'mestizo', '2016-05-01 00:00:000'),\n",
              " (8, 'milo', 11, 'gato', 'mestizo', '2016-09-01 00:00:000'),\n",
              " (9, 'oliver', 11, 'gato', 'mestizo', '2016-07-07 00:00:000'),\n",
              " (10, 'Duke', 14, 'perro', 'Pastor Aleman', '2011-05-03 00:00:000')]"
            ],
            "text/html": [
              "<table>\n",
              "    <thead>\n",
              "        <tr>\n",
              "            <th>mascota_id</th>\n",
              "            <th>nombre</th>\n",
              "            <th>cliente_id</th>\n",
              "            <th>especie</th>\n",
              "            <th>raza</th>\n",
              "            <th>fecha_nacimiento</th>\n",
              "        </tr>\n",
              "    </thead>\n",
              "    <tbody>\n",
              "        <tr>\n",
              "            <td>1</td>\n",
              "            <td>Luna</td>\n",
              "            <td>2</td>\n",
              "            <td>gato</td>\n",
              "            <td>mestizo</td>\n",
              "            <td>2009-01-01 00:00:000</td>\n",
              "        </tr>\n",
              "        <tr>\n",
              "            <td>2</td>\n",
              "            <td>Sole</td>\n",
              "            <td>3</td>\n",
              "            <td>gato</td>\n",
              "            <td>mestizo</td>\n",
              "            <td>2010-02-01 00:00:000</td>\n",
              "        </tr>\n",
              "        <tr>\n",
              "            <td>3</td>\n",
              "            <td>Mida</td>\n",
              "            <td>3</td>\n",
              "            <td>perro</td>\n",
              "            <td>Caint terrier</td>\n",
              "            <td>2007-02-03 00:00:000</td>\n",
              "        </tr>\n",
              "        <tr>\n",
              "            <td>4</td>\n",
              "            <td>Tara</td>\n",
              "            <td>5</td>\n",
              "            <td>perro</td>\n",
              "            <td>Puddle</td>\n",
              "            <td>2006-02-03 00:00:000</td>\n",
              "        </tr>\n",
              "        <tr>\n",
              "            <td>5</td>\n",
              "            <td>Pelusa</td>\n",
              "            <td>6</td>\n",
              "            <td>perro</td>\n",
              "            <td>Puddle</td>\n",
              "            <td>2008-02-03 00:00:000</td>\n",
              "        </tr>\n",
              "        <tr>\n",
              "            <td>6</td>\n",
              "            <td>irene</td>\n",
              "            <td>7</td>\n",
              "            <td>gato</td>\n",
              "            <td>siames</td>\n",
              "            <td>2015-02-03 00:00:000</td>\n",
              "        </tr>\n",
              "        <tr>\n",
              "            <td>7</td>\n",
              "            <td>sara</td>\n",
              "            <td>8</td>\n",
              "            <td>gato</td>\n",
              "            <td>mestizo</td>\n",
              "            <td>2016-05-01 00:00:000</td>\n",
              "        </tr>\n",
              "        <tr>\n",
              "            <td>8</td>\n",
              "            <td>milo</td>\n",
              "            <td>11</td>\n",
              "            <td>gato</td>\n",
              "            <td>mestizo</td>\n",
              "            <td>2016-09-01 00:00:000</td>\n",
              "        </tr>\n",
              "        <tr>\n",
              "            <td>9</td>\n",
              "            <td>oliver</td>\n",
              "            <td>11</td>\n",
              "            <td>gato</td>\n",
              "            <td>mestizo</td>\n",
              "            <td>2016-07-07 00:00:000</td>\n",
              "        </tr>\n",
              "        <tr>\n",
              "            <td>10</td>\n",
              "            <td>Duke</td>\n",
              "            <td>14</td>\n",
              "            <td>perro</td>\n",
              "            <td>Pastor Aleman</td>\n",
              "            <td>2011-05-03 00:00:000</td>\n",
              "        </tr>\n",
              "    </tbody>\n",
              "</table>"
            ]
          },
          "metadata": {},
          "execution_count": 9
        }
      ]
    },
    {
      "cell_type": "markdown",
      "metadata": {
        "id": "f5oBXPqGeqSI"
      },
      "source": [
        "### **Ejercicio 8**\n",
        "--------\n",
        "*No todas las personas tienen la misma cantidad de mascotas. Se requiere que usted indique el cliente y cantidad de mascotas que tiene cada cliente que tenga mascotas.*\n"
      ]
    },
    {
      "cell_type": "markdown",
      "source": [
        "Para responder a esta cuestión utilizaremos una consulta SQL similar a la del ejercicio anterior, pero la diferencia es que ahora nos interesan los clientes que si tienen mascota y contabilizar la cantidad de las mismas por cliente. Es por ello que modificaremos las condiciones de la **cláusula WHERE** y además utilizaremos la instrucción **GROUP BY** y la **función COUNT**."
      ],
      "metadata": {
        "id": "oqMZ690Y3KDK"
      }
    },
    {
      "cell_type": "code",
      "execution_count": null,
      "metadata": {
        "id": "P0kqiQsGeqSI",
        "colab": {
          "base_uri": "https://localhost:8080/",
          "height": 243
        },
        "outputId": "e804b226-be56-4758-c980-912ef8f7eefd"
      },
      "outputs": [
        {
          "output_type": "stream",
          "name": "stdout",
          "text": [
            " * sqlite:///love4pets.db\n",
            "Done.\n"
          ]
        },
        {
          "output_type": "execute_result",
          "data": {
            "text/plain": [
              "[('Alberto Sanz Ruiz', 2),\n",
              " ('Arnau Medina Garcia', 1),\n",
              " ('Carlos Costa Guerrero', 1),\n",
              " ('Gabriel Gonzalez Ortega', 1),\n",
              " ('Ivan Medina Rubio', 2),\n",
              " ('Jose Gallardo Rodriguez', 1),\n",
              " ('Rayan Leon Ferrer', 1),\n",
              " ('Roberto Martin Ortega', 1)]"
            ],
            "text/html": [
              "<table>\n",
              "    <thead>\n",
              "        <tr>\n",
              "            <th>nombre_cliente</th>\n",
              "            <th>cantidad_de_mascotas</th>\n",
              "        </tr>\n",
              "    </thead>\n",
              "    <tbody>\n",
              "        <tr>\n",
              "            <td>Alberto Sanz Ruiz</td>\n",
              "            <td>2</td>\n",
              "        </tr>\n",
              "        <tr>\n",
              "            <td>Arnau Medina Garcia</td>\n",
              "            <td>1</td>\n",
              "        </tr>\n",
              "        <tr>\n",
              "            <td>Carlos Costa Guerrero</td>\n",
              "            <td>1</td>\n",
              "        </tr>\n",
              "        <tr>\n",
              "            <td>Gabriel Gonzalez Ortega</td>\n",
              "            <td>1</td>\n",
              "        </tr>\n",
              "        <tr>\n",
              "            <td>Ivan Medina Rubio</td>\n",
              "            <td>2</td>\n",
              "        </tr>\n",
              "        <tr>\n",
              "            <td>Jose Gallardo Rodriguez</td>\n",
              "            <td>1</td>\n",
              "        </tr>\n",
              "        <tr>\n",
              "            <td>Rayan Leon Ferrer</td>\n",
              "            <td>1</td>\n",
              "        </tr>\n",
              "        <tr>\n",
              "            <td>Roberto Martin Ortega</td>\n",
              "            <td>1</td>\n",
              "        </tr>\n",
              "    </tbody>\n",
              "</table>"
            ]
          },
          "metadata": {},
          "execution_count": 18
        }
      ],
      "source": [
        "%%sql SELECT\n",
        "cliente.nombre as 'nombre_cliente',\n",
        "COUNT(mascota.cliente_id) as 'cantidad_de_mascotas'\n",
        "FROM cliente\n",
        "LEFT JOIN mascota ON cliente.cliente_id=mascota.cliente_id\n",
        "WHERE (mascota.nombre IS NOT NULL) OR (mascota.nombre<>'')\n",
        "GROUP BY cliente.nombre"
      ]
    },
    {
      "cell_type": "markdown",
      "source": [
        "En este ejercicio, luego de la **cláusula LEFT JOIN** se ejecuta la **condición WHERE** para filtrar las filas. Determina qué clientes tienen mascotas (el nombre de las mascota no es nulo o es distinto de vacío). Una vez filtrada las filas, utilizando las cláusula de tipo **GROUP BY** agrupamos las filas *cliente.nombre* donde el registro es el mismo. Finalmente, se aplica la **función COUNT** a cada grupo de filas *mascota.cliente_id* para obtener el número de mascotas de dicho grupo."
      ],
      "metadata": {
        "id": "A3jCeLSS0YcO"
      }
    },
    {
      "cell_type": "markdown",
      "metadata": {
        "id": "qx5yRkcjeqSI"
      },
      "source": [
        "### **Ejercicio 9**\n",
        "--------\n",
        "*Se requiere que usted indique los clientes que tienen mas de una mascota.*"
      ]
    },
    {
      "cell_type": "markdown",
      "source": [
        "En este caso la consulta SQL para responder la cuestión es practicamente igual al ejercicio anterior, solamente que le agregamos la instrucción HAVING que nos permite filtrar la búsqueda donde se aplica la función de agregación sobre la condición. Es decir, en este caso sobre GROUP BY, para que seleccione solo los clientes que tienen más de una mascota."
      ],
      "metadata": {
        "id": "wwJkuT8766OP"
      }
    },
    {
      "cell_type": "code",
      "execution_count": null,
      "metadata": {
        "colab": {
          "base_uri": "https://localhost:8080/",
          "height": 118
        },
        "id": "7P375xVMeqSJ",
        "outputId": "914f51c0-45b4-47b3-c0b4-f56695bd62d6"
      },
      "outputs": [
        {
          "output_type": "stream",
          "name": "stdout",
          "text": [
            " * sqlite:///love4pets.db\n",
            "Done.\n"
          ]
        },
        {
          "output_type": "execute_result",
          "data": {
            "text/plain": [
              "[('Alberto Sanz Ruiz', 2), ('Ivan Medina Rubio', 2)]"
            ],
            "text/html": [
              "<table>\n",
              "    <thead>\n",
              "        <tr>\n",
              "            <th>nombre_cliente</th>\n",
              "            <th>cantidad_de_mascotas</th>\n",
              "        </tr>\n",
              "    </thead>\n",
              "    <tbody>\n",
              "        <tr>\n",
              "            <td>Alberto Sanz Ruiz</td>\n",
              "            <td>2</td>\n",
              "        </tr>\n",
              "        <tr>\n",
              "            <td>Ivan Medina Rubio</td>\n",
              "            <td>2</td>\n",
              "        </tr>\n",
              "    </tbody>\n",
              "</table>"
            ]
          },
          "metadata": {},
          "execution_count": 19
        }
      ],
      "source": [
        "%%sql SELECT\n",
        "cliente.nombre as 'nombre_cliente',\n",
        "COUNT(mascota.cliente_id) as 'cantidad_de_mascotas'\n",
        "FROM cliente\n",
        "LEFT JOIN mascota ON cliente.cliente_id=mascota.cliente_id\n",
        "WHERE (mascota.nombre IS NOT NULL) OR (mascota.nombre<>'')\n",
        "GROUP BY cliente.nombre HAVING COUNT(mascota.cliente_id)>1"
      ]
    },
    {
      "cell_type": "markdown",
      "source": [
        "## Conclusiones\n",
        "\n",
        "---\n",
        "\n"
      ],
      "metadata": {
        "id": "2mCPBsKM11mc"
      }
    },
    {
      "cell_type": "markdown",
      "source": [
        "Se han podido responder satisfactoriamente todas las cuestiones planteadas sobre la actividad de la tienda de productos para mascotas Love4Pets mediante la manipulación y consultas de los datos de la base de datos relacional love4pets.db utilizando el lenguaje SQL en la plataforma Google Colab. Además, se han afianzado conocimientos sobre la sintaxis del lenguaje SQL para insertar y eliminar datos, realizar consultas, trabajar relaciones entre tablas, usar funciones SQL para cálculos y agregación."
      ],
      "metadata": {
        "id": "AP0hNfq9nV__"
      }
    }
  ],
  "metadata": {
    "colab": {
      "provenance": []
    },
    "kernelspec": {
      "display_name": "Python 3 (ipykernel)",
      "language": "python",
      "name": "python3"
    },
    "language_info": {
      "codemirror_mode": {
        "name": "ipython",
        "version": 3
      },
      "file_extension": ".py",
      "mimetype": "text/x-python",
      "name": "python",
      "nbconvert_exporter": "python",
      "pygments_lexer": "ipython3",
      "version": "3.11.4"
    }
  },
  "nbformat": 4,
  "nbformat_minor": 0
}